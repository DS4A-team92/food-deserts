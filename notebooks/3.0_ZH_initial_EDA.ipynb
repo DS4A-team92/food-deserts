{
 "cells": [
  {
   "cell_type": "code",
   "execution_count": 1,
   "metadata": {},
   "outputs": [],
   "source": [
    "import pandas as pd\n",
    "import matplotlib.pyplot as plt\n",
    "import seaborn as sns"
   ]
  },
  {
   "cell_type": "code",
   "execution_count": 2,
   "metadata": {},
   "outputs": [],
   "source": [
    "df=pd.read_csv(\"../../Desktop/DS4A_Program/DS4A_Project/full_data_final.csv\")"
   ]
  },
  {
   "cell_type": "code",
   "execution_count": 4,
   "metadata": {},
   "outputs": [
    {
     "name": "stdout",
     "output_type": "stream",
     "text": [
      "<class 'pandas.core.frame.DataFrame'>\n",
      "RangeIndex: 1314 entries, 0 to 1313\n",
      "Data columns (total 89 columns):\n",
      " #   Column                    Non-Null Count  Dtype  \n",
      "---  ------                    --------------  -----  \n",
      " 0   census_tract              1314 non-null   int64  \n",
      " 1   population                1314 non-null   int64  \n",
      " 2   housing_units             1314 non-null   int64  \n",
      " 3   group_qtr_flag            1314 non-null   int64  \n",
      " 4   ct_grp_qtr                1314 non-null   float64\n",
      " 5   pct_grp_qtr               1314 non-null   float64\n",
      " 6   mf_ia_110                 1314 non-null   int64  \n",
      " 7   mf_ia_h110                1314 non-null   int64  \n",
      " 8   mf_ia_120                 1314 non-null   int64  \n",
      " 9   mf_ia_vehicle             1314 non-null   int64  \n",
      " 10  f_vehicle_access_flag     1314 non-null   int64  \n",
      " 11  low_income                1314 non-null   int64  \n",
      " 12  prop_in_pov               1314 non-null   float64\n",
      " 13  median_income             1314 non-null   float64\n",
      " 14  mf_a_110                  1314 non-null   int64  \n",
      " 15  mf_a_h110                 1314 non-null   int64  \n",
      " 16  mf_a_120                  1314 non-null   int64  \n",
      " 17  mf_a_h1                   1314 non-null   int64  \n",
      " 18  mf_a_1                    1314 non-null   int64  \n",
      " 19  f_v_access_add_flag       1314 non-null   int64  \n",
      " 20  ct_a_h1                   1314 non-null   float64\n",
      " 21  prop_a_h1                 1314 non-null   float64\n",
      " 22  ct_ai_h1                  1314 non-null   float64\n",
      " 23  prop_ai_h1                1314 non-null   float64\n",
      " 24  ct_a_kids_h1              1314 non-null   float64\n",
      " 25  prop_a_kids_h1            1314 non-null   float64\n",
      " 26  ct_a_sen_h1               1314 non-null   float64\n",
      " 27  prop_a_sen_h1             1314 non-null   float64\n",
      " 28  ct_a_wht_h1               1314 non-null   float64\n",
      " 29  prop_a_wht_h1             1314 non-null   float64\n",
      " 30  ct_a_black_h1             1314 non-null   float64\n",
      " 31  prop_a_black_h1           1314 non-null   float64\n",
      " 32  ct_a_asian_h1             1314 non-null   float64\n",
      " 33  prop_a_asian_h1           1314 non-null   float64\n",
      " 34  ct_a_islander_h1          1314 non-null   float64\n",
      " 35  prop_a_islander_h1        1314 non-null   float64\n",
      " 36  ct_a_native_h1            1314 non-null   float64\n",
      " 37  prop_a_native_h1          1314 non-null   float64\n",
      " 38  ct_a_mult_h1              1314 non-null   float64\n",
      " 39  prop_a_mult_h1            1314 non-null   float64\n",
      " 40  ct_a_his_h1               1314 non-null   float64\n",
      " 41  prop_a_his_h1             1314 non-null   float64\n",
      " 42  ct_va_h1                  1314 non-null   float64\n",
      " 43  prop_va_h1                1314 non-null   float64\n",
      " 44  ct_snap_h1                1314 non-null   float64\n",
      " 45  prop_snap_h1              1314 non-null   float64\n",
      " 46  ct_i_pop                  1314 non-null   float64\n",
      " 47  ct_kids                   1314 non-null   float64\n",
      " 48  ct_seniors                1314 non-null   float64\n",
      " 49  ct_white                  1314 non-null   float64\n",
      " 50  ct_black                  1314 non-null   float64\n",
      " 51  ct_asian                  1314 non-null   float64\n",
      " 52  ct_islander               1314 non-null   float64\n",
      " 53  ct_native                 1314 non-null   float64\n",
      " 54  ct_multi                  1314 non-null   float64\n",
      " 55  ct_hispanic               1314 non-null   float64\n",
      " 56  ct_housing_no_vehicle     1314 non-null   float64\n",
      " 57  ct_snap                   1314 non-null   float64\n",
      " 58  ho_tooth_loss             1314 non-null   float64\n",
      " 59  ho_arthritis              1314 non-null   float64\n",
      " 60  ub_alcoholic              1314 non-null   float64\n",
      " 61  ho_cancer                 1314 non-null   float64\n",
      " 62  prev_c_cancer_screen      1314 non-null   float64\n",
      " 63  prev_chol_screen          1314 non-null   float64\n",
      " 64  ho_kidney_disease         1314 non-null   float64\n",
      " 65  ho_pulmonary              1314 non-null   float64\n",
      " 66  ho_ht_disease             1314 non-null   float64\n",
      " 67  ho_asthma                 1314 non-null   float64\n",
      " 68  prev_lack_insurance       1314 non-null   float64\n",
      " 69  ub_smoker                 1314 non-null   float64\n",
      " 70  ho_diabetes               1314 non-null   float64\n",
      " 71  prev_blood_test           1314 non-null   float64\n",
      " 72  ho_blood_pressure         1314 non-null   float64\n",
      " 73  ho_choles_screened        1314 non-null   float64\n",
      " 74  prev_mamm_use             1314 non-null   float64\n",
      " 75  ho_mental_health          1314 non-null   float64\n",
      " 76  ub_no_activity            1314 non-null   float64\n",
      " 77  ub_obesity                1314 non-null   float64\n",
      " 78  prev_clinical_services_m  1314 non-null   float64\n",
      " 79  prev_clinical_services_f  1314 non-null   float64\n",
      " 80  ho_physical_health        1314 non-null   float64\n",
      " 81  ub_sleep                  1314 non-null   float64\n",
      " 82  ho_stroke                 1314 non-null   float64\n",
      " 83  prev_med_bpressure        1314 non-null   float64\n",
      " 84  prev_dr_visits            1314 non-null   float64\n",
      " 85  prev_checkups             1314 non-null   float64\n",
      " 86  state                     987 non-null    object \n",
      " 87  mrfei                     987 non-null    float64\n",
      " 88  geometry                  1314 non-null   object \n",
      "dtypes: float64(71), int64(16), object(2)\n",
      "memory usage: 913.8+ KB\n"
     ]
    }
   ],
   "source": [
    "df.info()"
   ]
  },
  {
   "cell_type": "code",
   "execution_count": 5,
   "metadata": {},
   "outputs": [
    {
     "data": {
      "text/html": [
       "<div>\n",
       "<style scoped>\n",
       "    .dataframe tbody tr th:only-of-type {\n",
       "        vertical-align: middle;\n",
       "    }\n",
       "\n",
       "    .dataframe tbody tr th {\n",
       "        vertical-align: top;\n",
       "    }\n",
       "\n",
       "    .dataframe thead th {\n",
       "        text-align: right;\n",
       "    }\n",
       "</style>\n",
       "<table border=\"1\" class=\"dataframe\">\n",
       "  <thead>\n",
       "    <tr style=\"text-align: right;\">\n",
       "      <th></th>\n",
       "      <th>census_tract</th>\n",
       "      <th>population</th>\n",
       "      <th>housing_units</th>\n",
       "      <th>group_qtr_flag</th>\n",
       "      <th>ct_grp_qtr</th>\n",
       "      <th>pct_grp_qtr</th>\n",
       "      <th>mf_ia_110</th>\n",
       "      <th>mf_ia_h110</th>\n",
       "      <th>mf_ia_120</th>\n",
       "      <th>mf_ia_vehicle</th>\n",
       "      <th>...</th>\n",
       "      <th>ub_obesity</th>\n",
       "      <th>prev_clinical_services_m</th>\n",
       "      <th>prev_clinical_services_f</th>\n",
       "      <th>ho_physical_health</th>\n",
       "      <th>ub_sleep</th>\n",
       "      <th>ho_stroke</th>\n",
       "      <th>prev_med_bpressure</th>\n",
       "      <th>prev_dr_visits</th>\n",
       "      <th>prev_checkups</th>\n",
       "      <th>mrfei</th>\n",
       "    </tr>\n",
       "  </thead>\n",
       "  <tbody>\n",
       "    <tr>\n",
       "      <th>count</th>\n",
       "      <td>1.314000e+03</td>\n",
       "      <td>1314.000000</td>\n",
       "      <td>1314.000000</td>\n",
       "      <td>1314.000000</td>\n",
       "      <td>1314.000000</td>\n",
       "      <td>1314.000000</td>\n",
       "      <td>1314.000000</td>\n",
       "      <td>1314.000000</td>\n",
       "      <td>1314.000000</td>\n",
       "      <td>1314.000000</td>\n",
       "      <td>...</td>\n",
       "      <td>1314.000000</td>\n",
       "      <td>1314.000000</td>\n",
       "      <td>1314.000000</td>\n",
       "      <td>1314.000000</td>\n",
       "      <td>1314.000000</td>\n",
       "      <td>1314.000000</td>\n",
       "      <td>1314.000000</td>\n",
       "      <td>1314.000000</td>\n",
       "      <td>1314.000000</td>\n",
       "      <td>987.000000</td>\n",
       "    </tr>\n",
       "    <tr>\n",
       "      <th>mean</th>\n",
       "      <td>1.703156e+10</td>\n",
       "      <td>3953.329528</td>\n",
       "      <td>1496.465753</td>\n",
       "      <td>0.003805</td>\n",
       "      <td>68.707763</td>\n",
       "      <td>1.738508</td>\n",
       "      <td>0.038813</td>\n",
       "      <td>0.251903</td>\n",
       "      <td>0.038813</td>\n",
       "      <td>0.141553</td>\n",
       "      <td>...</td>\n",
       "      <td>31.447945</td>\n",
       "      <td>28.922831</td>\n",
       "      <td>25.779376</td>\n",
       "      <td>11.940868</td>\n",
       "      <td>37.028615</td>\n",
       "      <td>3.480594</td>\n",
       "      <td>71.312861</td>\n",
       "      <td>62.395205</td>\n",
       "      <td>75.612329</td>\n",
       "      <td>7.441640</td>\n",
       "    </tr>\n",
       "    <tr>\n",
       "      <th>std</th>\n",
       "      <td>2.944146e+05</td>\n",
       "      <td>1788.800486</td>\n",
       "      <td>761.006299</td>\n",
       "      <td>0.061592</td>\n",
       "      <td>352.577133</td>\n",
       "      <td>6.321919</td>\n",
       "      <td>0.193222</td>\n",
       "      <td>0.434271</td>\n",
       "      <td>0.193222</td>\n",
       "      <td>0.348723</td>\n",
       "      <td>...</td>\n",
       "      <td>7.683582</td>\n",
       "      <td>6.557805</td>\n",
       "      <td>5.123947</td>\n",
       "      <td>3.977968</td>\n",
       "      <td>5.912608</td>\n",
       "      <td>1.687695</td>\n",
       "      <td>7.190702</td>\n",
       "      <td>12.256589</td>\n",
       "      <td>4.648935</td>\n",
       "      <td>5.835605</td>\n",
       "    </tr>\n",
       "    <tr>\n",
       "      <th>min</th>\n",
       "      <td>1.703101e+10</td>\n",
       "      <td>237.000000</td>\n",
       "      <td>100.000000</td>\n",
       "      <td>0.000000</td>\n",
       "      <td>0.000000</td>\n",
       "      <td>0.000000</td>\n",
       "      <td>0.000000</td>\n",
       "      <td>0.000000</td>\n",
       "      <td>0.000000</td>\n",
       "      <td>0.000000</td>\n",
       "      <td>...</td>\n",
       "      <td>16.700000</td>\n",
       "      <td>14.400000</td>\n",
       "      <td>13.900000</td>\n",
       "      <td>3.900000</td>\n",
       "      <td>25.900000</td>\n",
       "      <td>0.600000</td>\n",
       "      <td>38.600000</td>\n",
       "      <td>28.400000</td>\n",
       "      <td>65.900000</td>\n",
       "      <td>0.000000</td>\n",
       "    </tr>\n",
       "    <tr>\n",
       "      <th>25%</th>\n",
       "      <td>1.703125e+10</td>\n",
       "      <td>2548.000000</td>\n",
       "      <td>964.500000</td>\n",
       "      <td>0.000000</td>\n",
       "      <td>0.000000</td>\n",
       "      <td>0.000000</td>\n",
       "      <td>0.000000</td>\n",
       "      <td>0.000000</td>\n",
       "      <td>0.000000</td>\n",
       "      <td>0.000000</td>\n",
       "      <td>...</td>\n",
       "      <td>24.900000</td>\n",
       "      <td>23.300000</td>\n",
       "      <td>21.700000</td>\n",
       "      <td>9.100000</td>\n",
       "      <td>32.300000</td>\n",
       "      <td>2.400000</td>\n",
       "      <td>67.400000</td>\n",
       "      <td>53.200000</td>\n",
       "      <td>71.700000</td>\n",
       "      <td>3.448276</td>\n",
       "    </tr>\n",
       "    <tr>\n",
       "      <th>50%</th>\n",
       "      <td>1.703172e+10</td>\n",
       "      <td>3848.000000</td>\n",
       "      <td>1424.000000</td>\n",
       "      <td>0.000000</td>\n",
       "      <td>2.000000</td>\n",
       "      <td>0.060000</td>\n",
       "      <td>0.000000</td>\n",
       "      <td>0.000000</td>\n",
       "      <td>0.000000</td>\n",
       "      <td>0.000000</td>\n",
       "      <td>...</td>\n",
       "      <td>29.700000</td>\n",
       "      <td>29.300000</td>\n",
       "      <td>25.800000</td>\n",
       "      <td>11.500000</td>\n",
       "      <td>35.700000</td>\n",
       "      <td>3.000000</td>\n",
       "      <td>72.800000</td>\n",
       "      <td>63.600000</td>\n",
       "      <td>75.300000</td>\n",
       "      <td>7.142857</td>\n",
       "    </tr>\n",
       "    <tr>\n",
       "      <th>75%</th>\n",
       "      <td>1.703182e+10</td>\n",
       "      <td>5149.500000</td>\n",
       "      <td>1893.000000</td>\n",
       "      <td>0.000000</td>\n",
       "      <td>30.750000</td>\n",
       "      <td>0.937500</td>\n",
       "      <td>0.000000</td>\n",
       "      <td>1.000000</td>\n",
       "      <td>0.000000</td>\n",
       "      <td>0.000000</td>\n",
       "      <td>...</td>\n",
       "      <td>37.700000</td>\n",
       "      <td>34.500000</td>\n",
       "      <td>29.900000</td>\n",
       "      <td>14.400000</td>\n",
       "      <td>41.475000</td>\n",
       "      <td>4.300000</td>\n",
       "      <td>76.400000</td>\n",
       "      <td>73.000000</td>\n",
       "      <td>79.575000</td>\n",
       "      <td>10.714286</td>\n",
       "    </tr>\n",
       "    <tr>\n",
       "      <th>max</th>\n",
       "      <td>1.703184e+10</td>\n",
       "      <td>16735.000000</td>\n",
       "      <td>9751.000000</td>\n",
       "      <td>1.000000</td>\n",
       "      <td>10273.000000</td>\n",
       "      <td>90.840000</td>\n",
       "      <td>1.000000</td>\n",
       "      <td>1.000000</td>\n",
       "      <td>1.000000</td>\n",
       "      <td>1.000000</td>\n",
       "      <td>...</td>\n",
       "      <td>51.800000</td>\n",
       "      <td>41.500000</td>\n",
       "      <td>37.300000</td>\n",
       "      <td>29.500000</td>\n",
       "      <td>51.800000</td>\n",
       "      <td>11.800000</td>\n",
       "      <td>87.800000</td>\n",
       "      <td>83.600000</td>\n",
       "      <td>87.800000</td>\n",
       "      <td>50.000000</td>\n",
       "    </tr>\n",
       "  </tbody>\n",
       "</table>\n",
       "<p>8 rows × 87 columns</p>\n",
       "</div>"
      ],
      "text/plain": [
       "       census_tract    population  housing_units  group_qtr_flag  \\\n",
       "count  1.314000e+03   1314.000000    1314.000000     1314.000000   \n",
       "mean   1.703156e+10   3953.329528    1496.465753        0.003805   \n",
       "std    2.944146e+05   1788.800486     761.006299        0.061592   \n",
       "min    1.703101e+10    237.000000     100.000000        0.000000   \n",
       "25%    1.703125e+10   2548.000000     964.500000        0.000000   \n",
       "50%    1.703172e+10   3848.000000    1424.000000        0.000000   \n",
       "75%    1.703182e+10   5149.500000    1893.000000        0.000000   \n",
       "max    1.703184e+10  16735.000000    9751.000000        1.000000   \n",
       "\n",
       "         ct_grp_qtr  pct_grp_qtr    mf_ia_110   mf_ia_h110    mf_ia_120  \\\n",
       "count   1314.000000  1314.000000  1314.000000  1314.000000  1314.000000   \n",
       "mean      68.707763     1.738508     0.038813     0.251903     0.038813   \n",
       "std      352.577133     6.321919     0.193222     0.434271     0.193222   \n",
       "min        0.000000     0.000000     0.000000     0.000000     0.000000   \n",
       "25%        0.000000     0.000000     0.000000     0.000000     0.000000   \n",
       "50%        2.000000     0.060000     0.000000     0.000000     0.000000   \n",
       "75%       30.750000     0.937500     0.000000     1.000000     0.000000   \n",
       "max    10273.000000    90.840000     1.000000     1.000000     1.000000   \n",
       "\n",
       "       mf_ia_vehicle  ...   ub_obesity  prev_clinical_services_m  \\\n",
       "count    1314.000000  ...  1314.000000               1314.000000   \n",
       "mean        0.141553  ...    31.447945                 28.922831   \n",
       "std         0.348723  ...     7.683582                  6.557805   \n",
       "min         0.000000  ...    16.700000                 14.400000   \n",
       "25%         0.000000  ...    24.900000                 23.300000   \n",
       "50%         0.000000  ...    29.700000                 29.300000   \n",
       "75%         0.000000  ...    37.700000                 34.500000   \n",
       "max         1.000000  ...    51.800000                 41.500000   \n",
       "\n",
       "       prev_clinical_services_f  ho_physical_health     ub_sleep    ho_stroke  \\\n",
       "count               1314.000000         1314.000000  1314.000000  1314.000000   \n",
       "mean                  25.779376           11.940868    37.028615     3.480594   \n",
       "std                    5.123947            3.977968     5.912608     1.687695   \n",
       "min                   13.900000            3.900000    25.900000     0.600000   \n",
       "25%                   21.700000            9.100000    32.300000     2.400000   \n",
       "50%                   25.800000           11.500000    35.700000     3.000000   \n",
       "75%                   29.900000           14.400000    41.475000     4.300000   \n",
       "max                   37.300000           29.500000    51.800000    11.800000   \n",
       "\n",
       "       prev_med_bpressure  prev_dr_visits  prev_checkups       mrfei  \n",
       "count         1314.000000     1314.000000    1314.000000  987.000000  \n",
       "mean            71.312861       62.395205      75.612329    7.441640  \n",
       "std              7.190702       12.256589       4.648935    5.835605  \n",
       "min             38.600000       28.400000      65.900000    0.000000  \n",
       "25%             67.400000       53.200000      71.700000    3.448276  \n",
       "50%             72.800000       63.600000      75.300000    7.142857  \n",
       "75%             76.400000       73.000000      79.575000   10.714286  \n",
       "max             87.800000       83.600000      87.800000   50.000000  \n",
       "\n",
       "[8 rows x 87 columns]"
      ]
     },
     "execution_count": 5,
     "metadata": {},
     "output_type": "execute_result"
    }
   ],
   "source": [
    "df.describe()"
   ]
  },
  {
   "cell_type": "code",
   "execution_count": 6,
   "metadata": {},
   "outputs": [
    {
     "data": {
      "text/plain": [
       "Index(['census_tract', 'population', 'housing_units', 'group_qtr_flag',\n",
       "       'ct_grp_qtr', 'pct_grp_qtr', 'mf_ia_110', 'mf_ia_h110', 'mf_ia_120',\n",
       "       'mf_ia_vehicle', 'f_vehicle_access_flag', 'low_income', 'prop_in_pov',\n",
       "       'median_income', 'mf_a_110', 'mf_a_h110', 'mf_a_120', 'mf_a_h1',\n",
       "       'mf_a_1', 'f_v_access_add_flag', 'ct_a_h1', 'prop_a_h1', 'ct_ai_h1',\n",
       "       'prop_ai_h1', 'ct_a_kids_h1', 'prop_a_kids_h1', 'ct_a_sen_h1',\n",
       "       'prop_a_sen_h1', 'ct_a_wht_h1', 'prop_a_wht_h1', 'ct_a_black_h1',\n",
       "       'prop_a_black_h1', 'ct_a_asian_h1', 'prop_a_asian_h1',\n",
       "       'ct_a_islander_h1', 'prop_a_islander_h1', 'ct_a_native_h1',\n",
       "       'prop_a_native_h1', 'ct_a_mult_h1', 'prop_a_mult_h1', 'ct_a_his_h1',\n",
       "       'prop_a_his_h1', 'ct_va_h1', 'prop_va_h1', 'ct_snap_h1', 'prop_snap_h1',\n",
       "       'ct_i_pop', 'ct_kids', 'ct_seniors', 'ct_white', 'ct_black', 'ct_asian',\n",
       "       'ct_islander', 'ct_native', 'ct_multi', 'ct_hispanic',\n",
       "       'ct_housing_no_vehicle', 'ct_snap', 'ho_tooth_loss', 'ho_arthritis',\n",
       "       'ub_alcoholic', 'ho_cancer', 'prev_c_cancer_screen', 'prev_chol_screen',\n",
       "       'ho_kidney_disease', 'ho_pulmonary', 'ho_ht_disease', 'ho_asthma',\n",
       "       'prev_lack_insurance', 'ub_smoker', 'ho_diabetes', 'prev_blood_test',\n",
       "       'ho_blood_pressure', 'ho_choles_screened', 'prev_mamm_use',\n",
       "       'ho_mental_health', 'ub_no_activity', 'ub_obesity',\n",
       "       'prev_clinical_services_m', 'prev_clinical_services_f',\n",
       "       'ho_physical_health', 'ub_sleep', 'ho_stroke', 'prev_med_bpressure',\n",
       "       'prev_dr_visits', 'prev_checkups', 'state', 'mrfei', 'geometry'],\n",
       "      dtype='object')"
      ]
     },
     "execution_count": 6,
     "metadata": {},
     "output_type": "execute_result"
    }
   ],
   "source": [
    "df.columns"
   ]
  },
  {
   "cell_type": "code",
   "execution_count": 7,
   "metadata": {},
   "outputs": [],
   "source": [
    "ind_vars=df.drop(\"mrfei\",axis=1).columns"
   ]
  },
  {
   "cell_type": "code",
   "execution_count": 8,
   "metadata": {},
   "outputs": [
    {
     "data": {
      "text/plain": [
       "prop_snap_h1               -0.271150\n",
       "prop_ai_h1                 -0.258675\n",
       "prop_va_h1                 -0.251193\n",
       "prop_a_black_h1            -0.230990\n",
       "ho_asthma                  -0.229687\n",
       "mf_ia_vehicle              -0.215845\n",
       "ho_tooth_loss              -0.215134\n",
       "ub_sleep                   -0.212054\n",
       "ho_stroke                  -0.204441\n",
       "ub_smoker                  -0.202974\n",
       "ho_mental_health           -0.197537\n",
       "prop_a_kids_h1             -0.191792\n",
       "f_vehicle_access_flag      -0.190839\n",
       "f_v_access_add_flag        -0.190839\n",
       "prop_a_h1                  -0.184408\n",
       "ct_snap_h1                 -0.184003\n",
       "ho_pulmonary               -0.181274\n",
       "ub_obesity                 -0.175511\n",
       "ho_diabetes                -0.175407\n",
       "ct_va_h1                   -0.175123\n",
       "ho_physical_health         -0.169218\n",
       "ho_kidney_disease          -0.167139\n",
       "ct_ai_h1                   -0.166479\n",
       "prop_in_pov                -0.166430\n",
       "ho_blood_pressure          -0.161426\n",
       "ub_no_activity             -0.150807\n",
       "mf_ia_h110                 -0.150705\n",
       "ct_a_black_h1              -0.147601\n",
       "prop_a_sen_h1              -0.126406\n",
       "prev_checkups              -0.123830\n",
       "ho_ht_disease              -0.120428\n",
       "ct_black                   -0.115656\n",
       "ho_arthritis               -0.108531\n",
       "prev_mamm_use              -0.103276\n",
       "mf_a_120                   -0.098614\n",
       "mf_a_110                   -0.098614\n",
       "mf_a_1                     -0.098614\n",
       "ct_snap                    -0.097192\n",
       "prop_a_native_h1           -0.089817\n",
       "ct_a_kids_h1               -0.084574\n",
       "mf_ia_110                  -0.082019\n",
       "mf_ia_120                  -0.082019\n",
       "low_income                 -0.079203\n",
       "ct_a_h1                    -0.077703\n",
       "mf_a_h1                    -0.068122\n",
       "mf_a_h110                  -0.068122\n",
       "prop_a_mult_h1             -0.062631\n",
       "prop_a_his_h1              -0.058732\n",
       "ct_a_native_h1             -0.056869\n",
       "ct_housing_no_vehicle      -0.054161\n",
       "prev_lack_insurance        -0.047192\n",
       "ct_a_his_h1                -0.045249\n",
       "prev_med_bpressure         -0.044797\n",
       "ct_a_mult_h1               -0.044464\n",
       "group_qtr_flag             -0.040192\n",
       "ct_a_sen_h1                -0.039668\n",
       "prop_a_asian_h1            -0.021565\n",
       "ct_i_pop                   -0.019857\n",
       "ct_grp_qtr                 -0.015714\n",
       "pct_grp_qtr                -0.015114\n",
       "prop_a_wht_h1              -0.006950\n",
       "ho_choles_screened         -0.001793\n",
       "ct_a_asian_h1               0.002467\n",
       "ct_a_wht_h1                 0.007349\n",
       "prop_a_islander_h1          0.031668\n",
       "ct_islander                 0.038443\n",
       "ct_a_islander_h1            0.043785\n",
       "ct_asian                    0.056330\n",
       "ho_cancer                   0.059738\n",
       "census_tract                0.064552\n",
       "prev_chol_screen            0.065956\n",
       "prev_blood_test             0.079629\n",
       "prev_c_cancer_screen        0.080348\n",
       "housing_units               0.088813\n",
       "ct_seniors                  0.092915\n",
       "ct_kids                     0.095886\n",
       "population                  0.098862\n",
       "ct_hispanic                 0.101979\n",
       "ct_native                   0.108881\n",
       "ub_alcoholic                0.110064\n",
       "ct_multi                    0.112717\n",
       "median_income               0.121097\n",
       "ct_white                    0.137015\n",
       "prev_clinical_services_m    0.162485\n",
       "prev_clinical_services_f    0.164898\n",
       "prev_dr_visits              0.169724\n",
       "dtype: float64"
      ]
     },
     "execution_count": 8,
     "metadata": {},
     "output_type": "execute_result"
    }
   ],
   "source": [
    "pd.options.display.max_rows=100\n",
    "mrfei_corr=df[ind_vars].corrwith(df['mrfei']).sort_values(ascending=True)\n",
    "mrfei_corr"
   ]
  },
  {
   "cell_type": "code",
   "execution_count": 9,
   "metadata": {},
   "outputs": [
    {
     "data": {
      "text/plain": [
       "<matplotlib.axes._subplots.AxesSubplot at 0x7fd9f3dcedd0>"
      ]
     },
     "execution_count": 9,
     "metadata": {},
     "output_type": "execute_result"
    },
    {
     "data": {
      "image/png": "[encoded data removed]",
      "text/plain": [
       "<Figure size 432x288 with 1 Axes>"
      ]
     },
     "metadata": {
      "needs_background": "light"
     },
     "output_type": "display_data"
    }
   ],
   "source": [
    "sns.scatterplot(x=\"prop_snap_h1\",y=\"ho_asthma\",data=df)"
   ]
  },
  {
   "cell_type": "code",
   "execution_count": 10,
   "metadata": {},
   "outputs": [
    {
     "data": {
      "text/plain": [
       "[]"
      ]
     },
     "execution_count": 10,
     "metadata": {},
     "output_type": "execute_result"
    },
    {
     "data": {
      "image/png": "[encoded data removed]",
      "text/plain": [
       "<Figure size 432x288 with 1 Axes>"
      ]
     },
     "metadata": {
      "needs_background": "light"
     },
     "output_type": "display_data"
    }
   ],
   "source": [
    "#What is this count? Is this the number of previous dr visits in each census tract? Or is it the number of visits per\n",
    "#100K inhabitants, for example? If not, should convert this variable to be a proportion.\n",
    "df['prev_dr_visits'].hist().plot()"
   ]
  },
  {
   "cell_type": "code",
   "execution_count": 11,
   "metadata": {},
   "outputs": [
    {
     "data": {
      "text/plain": [
       "<matplotlib.axes._subplots.AxesSubplot at 0x7fd9f50a3490>"
      ]
     },
     "execution_count": 11,
     "metadata": {},
     "output_type": "execute_result"
    },
    {
     "data": {
      "image/png": "[encoded data removed]",
      "text/plain": [
       "<Figure size 432x288 with 1 Axes>"
      ]
     },
     "metadata": {
      "needs_background": "light"
     },
     "output_type": "display_data"
    }
   ],
   "source": [
    "sns.scatterplot(x=\"prop_snap_h1\",y=\"mrfei\",data=df)"
   ]
  },
  {
   "cell_type": "code",
   "execution_count": 12,
   "metadata": {},
   "outputs": [
    {
     "data": {
      "text/plain": [
       "[]"
      ]
     },
     "execution_count": 12,
     "metadata": {},
     "output_type": "execute_result"
    },
    {
     "data": {
      "image/png": "[encoded data removed]",
      "text/plain": [
       "<Figure size 432x288 with 1 Axes>"
      ]
     },
     "metadata": {
      "needs_background": "light"
     },
     "output_type": "display_data"
    }
   ],
   "source": [
    "df['mrfei'].hist().plot()"
   ]
  },
  {
   "cell_type": "code",
   "execution_count": 13,
   "metadata": {},
   "outputs": [
    {
     "data": {
      "text/plain": [
       "<matplotlib.axes._subplots.AxesSubplot at 0x7fd9f52aba90>"
      ]
     },
     "execution_count": 13,
     "metadata": {},
     "output_type": "execute_result"
    },
    {
     "data": {
      "image/png": "[encoded data removed]",
      "text/plain": [
       "<Figure size 432x288 with 1 Axes>"
      ]
     },
     "metadata": {
      "needs_background": "light"
     },
     "output_type": "display_data"
    }
   ],
   "source": [
    "sns.boxplot(x=df['mrfei'])"
   ]
  },
  {
   "cell_type": "code",
   "execution_count": 14,
   "metadata": {},
   "outputs": [
    {
     "data": {
      "text/plain": [
       "<matplotlib.axes._subplots.AxesSubplot at 0x7fd9f53a30d0>"
      ]
     },
     "execution_count": 14,
     "metadata": {},
     "output_type": "execute_result"
    },
    {
     "data": {
      "image/png": "[encoded data removed]",
      "text/plain": [
       "<Figure size 432x288 with 1 Axes>"
      ]
     },
     "metadata": {
      "needs_background": "light"
     },
     "output_type": "display_data"
    }
   ],
   "source": [
    "sns.scatterplot(x=\"prop_a_black_h1\",y=\"ho_asthma\",data=df)"
   ]
  },
  {
   "cell_type": "code",
   "execution_count": 15,
   "metadata": {},
   "outputs": [
    {
     "data": {
      "text/plain": [
       "<matplotlib.axes._subplots.AxesSubplot at 0x7fd9f3df1b90>"
      ]
     },
     "execution_count": 15,
     "metadata": {},
     "output_type": "execute_result"
    },
    {
     "data": {
      "image/png": "[encoded data removed]",
      "text/plain": [
       "<Figure size 432x288 with 1 Axes>"
      ]
     },
     "metadata": {
      "needs_background": "light"
     },
     "output_type": "display_data"
    }
   ],
   "source": [
    "sns.boxplot(x=df['prop_snap_h1'])"
   ]
  },
  {
   "cell_type": "code",
   "execution_count": 16,
   "metadata": {},
   "outputs": [
    {
     "data": {
      "text/plain": [
       "<matplotlib.axes._subplots.AxesSubplot at 0x7fd9f556b110>"
      ]
     },
     "execution_count": 16,
     "metadata": {},
     "output_type": "execute_result"
    },
    {
     "data": {
      "image/png": "[encoded data removed]",
      "text/plain": [
       "<Figure size 432x288 with 1 Axes>"
      ]
     },
     "metadata": {
      "needs_background": "light"
     },
     "output_type": "display_data"
    }
   ],
   "source": [
    "#Kidney disease and diabetese appear to be very correlated. We should maybe consider including only one of these\n",
    "#variables in our model\n",
    "sns.scatterplot(\"ho_kidney_disease\",y=\"ho_diabetes\",data=df)"
   ]
  },
  {
   "cell_type": "code",
   "execution_count": 17,
   "metadata": {},
   "outputs": [
    {
     "data": {
      "text/plain": [
       "['ct_grp_qtr',\n",
       " 'pct_grp_qtr',\n",
       " 'ct_a_h1',\n",
       " 'ct_ai_h1',\n",
       " 'ct_a_kids_h1',\n",
       " 'ct_a_sen_h1',\n",
       " 'ct_a_wht_h1',\n",
       " 'ct_a_black_h1',\n",
       " 'ct_a_asian_h1',\n",
       " 'ct_a_islander_h1',\n",
       " 'ct_a_native_h1',\n",
       " 'ct_a_mult_h1',\n",
       " 'ct_a_his_h1',\n",
       " 'ct_va_h1',\n",
       " 'ct_snap_h1',\n",
       " 'ct_i_pop',\n",
       " 'ct_kids',\n",
       " 'ct_seniors',\n",
       " 'ct_white',\n",
       " 'ct_black',\n",
       " 'ct_asian',\n",
       " 'ct_islander',\n",
       " 'ct_native',\n",
       " 'ct_multi',\n",
       " 'ct_hispanic',\n",
       " 'ct_housing_no_vehicle',\n",
       " 'ct_snap']"
      ]
     },
     "execution_count": 17,
     "metadata": {},
     "output_type": "execute_result"
    }
   ],
   "source": [
    "list_of_count_vars=[]\n",
    "for i in df.columns:\n",
    "    if \"ct_\" in i:\n",
    "        list_of_count_vars.append(i)\n",
    "list_of_count_vars"
   ]
  },
  {
   "cell_type": "code",
   "execution_count": 18,
   "metadata": {},
   "outputs": [],
   "source": [
    "list_of_count_vars.remove('pct_grp_qtr')"
   ]
  },
  {
   "cell_type": "code",
   "execution_count": 19,
   "metadata": {},
   "outputs": [
    {
     "data": {
      "text/plain": [
       "['ct_grp_qtr',\n",
       " 'ct_a_h1',\n",
       " 'ct_ai_h1',\n",
       " 'ct_a_kids_h1',\n",
       " 'ct_a_sen_h1',\n",
       " 'ct_a_wht_h1',\n",
       " 'ct_a_black_h1',\n",
       " 'ct_a_asian_h1',\n",
       " 'ct_a_islander_h1',\n",
       " 'ct_a_native_h1',\n",
       " 'ct_a_mult_h1',\n",
       " 'ct_a_his_h1',\n",
       " 'ct_va_h1',\n",
       " 'ct_snap_h1',\n",
       " 'ct_i_pop',\n",
       " 'ct_kids',\n",
       " 'ct_seniors',\n",
       " 'ct_white',\n",
       " 'ct_black',\n",
       " 'ct_asian',\n",
       " 'ct_islander',\n",
       " 'ct_native',\n",
       " 'ct_multi',\n",
       " 'ct_hispanic',\n",
       " 'ct_housing_no_vehicle',\n",
       " 'ct_snap']"
      ]
     },
     "execution_count": 19,
     "metadata": {},
     "output_type": "execute_result"
    }
   ],
   "source": [
    "list_of_count_vars"
   ]
  },
  {
   "cell_type": "code",
   "execution_count": 20,
   "metadata": {},
   "outputs": [
    {
     "data": {
      "text/plain": [
       "0    4854\n",
       "1    6450\n",
       "2    2818\n",
       "3    6236\n",
       "4    5042\n",
       "Name: population, dtype: int64"
      ]
     },
     "execution_count": 20,
     "metadata": {},
     "output_type": "execute_result"
    }
   ],
   "source": [
    "df.population.head()"
   ]
  },
  {
   "cell_type": "code",
   "execution_count": 21,
   "metadata": {},
   "outputs": [
    {
     "data": {
      "text/plain": [
       "True"
      ]
     },
     "execution_count": 21,
     "metadata": {},
     "output_type": "execute_result"
    }
   ],
   "source": [
    "list(df.columns) not in list_of_count_vars"
   ]
  },
  {
   "cell_type": "code",
   "execution_count": 22,
   "metadata": {},
   "outputs": [],
   "source": [
    "list_of_prop_vars=[]\n",
    "for i in df.columns:\n",
    "    if \"prop_\" in i:\n",
    "        list_of_prop_vars.append(i)"
   ]
  },
  {
   "cell_type": "code",
   "execution_count": 23,
   "metadata": {},
   "outputs": [
    {
     "data": {
      "text/plain": [
       "{'asian',\n",
       " 'black',\n",
       " 'grp_qtr',\n",
       " 'hispanic',\n",
       " 'housing_no_vehicle',\n",
       " 'i_pop',\n",
       " 'islander',\n",
       " 'kids',\n",
       " 'multi',\n",
       " 'native',\n",
       " 'seniors',\n",
       " 'snap',\n",
       " 'white'}"
      ]
     },
     "execution_count": 23,
     "metadata": {},
     "output_type": "execute_result"
    }
   ],
   "source": [
    "#Use sets to find count columns that don't have a corresponding proportion column\n",
    "\n",
    "abrev_list_of_prop_vars=[i[5:] for i in list_of_prop_vars]\n",
    "abrev_list_of_count_vars=[i[3:] for i in list_of_count_vars]\n",
    "\n",
    "set(abrev_list_of_count_vars)-set(abrev_list_of_prop_vars)"
   ]
  },
  {
   "cell_type": "code",
   "execution_count": 24,
   "metadata": {},
   "outputs": [],
   "source": [
    "#columns to drop\n",
    "cols_to_drop=[\"ct_\"+i for i in (set(abrev_list_of_count_vars)-(set(abrev_list_of_count_vars)-set(abrev_list_of_prop_vars)))]"
   ]
  },
  {
   "cell_type": "code",
   "execution_count": 25,
   "metadata": {},
   "outputs": [
    {
     "data": {
      "text/plain": [
       "['ct_a_black_h1',\n",
       " 'ct_a_his_h1',\n",
       " 'ct_a_h1',\n",
       " 'ct_a_asian_h1',\n",
       " 'ct_a_islander_h1',\n",
       " 'ct_a_wht_h1',\n",
       " 'ct_a_mult_h1',\n",
       " 'ct_ai_h1',\n",
       " 'ct_a_kids_h1',\n",
       " 'ct_va_h1',\n",
       " 'ct_a_sen_h1',\n",
       " 'ct_a_native_h1',\n",
       " 'ct_snap_h1']"
      ]
     },
     "execution_count": 25,
     "metadata": {},
     "output_type": "execute_result"
    }
   ],
   "source": [
    "cols_to_drop"
   ]
  },
  {
   "cell_type": "code",
   "execution_count": 26,
   "metadata": {},
   "outputs": [],
   "source": [
    "df_clean=df.copy().drop(cols_to_drop,axis=1)"
   ]
  },
  {
   "cell_type": "code",
   "execution_count": 27,
   "metadata": {},
   "outputs": [
    {
     "data": {
      "text/plain": [
       "Index(['census_tract', 'population', 'housing_units', 'group_qtr_flag',\n",
       "       'ct_grp_qtr', 'pct_grp_qtr', 'mf_ia_110', 'mf_ia_h110', 'mf_ia_120',\n",
       "       'mf_ia_vehicle', 'f_vehicle_access_flag', 'low_income', 'prop_in_pov',\n",
       "       'median_income', 'mf_a_110', 'mf_a_h110', 'mf_a_120', 'mf_a_h1',\n",
       "       'mf_a_1', 'f_v_access_add_flag', 'prop_a_h1', 'prop_ai_h1',\n",
       "       'prop_a_kids_h1', 'prop_a_sen_h1', 'prop_a_wht_h1', 'prop_a_black_h1',\n",
       "       'prop_a_asian_h1', 'prop_a_islander_h1', 'prop_a_native_h1',\n",
       "       'prop_a_mult_h1', 'prop_a_his_h1', 'prop_va_h1', 'prop_snap_h1',\n",
       "       'ct_i_pop', 'ct_kids', 'ct_seniors', 'ct_white', 'ct_black', 'ct_asian',\n",
       "       'ct_islander', 'ct_native', 'ct_multi', 'ct_hispanic',\n",
       "       'ct_housing_no_vehicle', 'ct_snap', 'ho_tooth_loss', 'ho_arthritis',\n",
       "       'ub_alcoholic', 'ho_cancer', 'prev_c_cancer_screen', 'prev_chol_screen',\n",
       "       'ho_kidney_disease', 'ho_pulmonary', 'ho_ht_disease', 'ho_asthma',\n",
       "       'prev_lack_insurance', 'ub_smoker', 'ho_diabetes', 'prev_blood_test',\n",
       "       'ho_blood_pressure', 'ho_choles_screened', 'prev_mamm_use',\n",
       "       'ho_mental_health', 'ub_no_activity', 'ub_obesity',\n",
       "       'prev_clinical_services_m', 'prev_clinical_services_f',\n",
       "       'ho_physical_health', 'ub_sleep', 'ho_stroke', 'prev_med_bpressure',\n",
       "       'prev_dr_visits', 'prev_checkups', 'state', 'mrfei', 'geometry'],\n",
       "      dtype='object')"
      ]
     },
     "execution_count": 27,
     "metadata": {},
     "output_type": "execute_result"
    }
   ],
   "source": [
    "df_clean.columns"
   ]
  },
  {
   "cell_type": "code",
   "execution_count": 28,
   "metadata": {},
   "outputs": [],
   "source": [
    "#Remove ct_i_pop assuming prop_in_pov is the porportion of people in poverty/low income (i.e., low income = poverty here)\n",
    "#Also dropping ct_grp_qtr because covered by pct_grp_qtr.\n",
    "df_clean=df_clean.drop(['ct_i_pop','ct_grp_qtr'],axis=1)"
   ]
  },
  {
   "cell_type": "code",
   "execution_count": 29,
   "metadata": {},
   "outputs": [],
   "source": [
    "#Add proportion of count variables and drop counts\n",
    "df_clean['prop_kids']=(df_clean['ct_kids']/df_clean['population'])*100\n",
    "df_clean['prop_seniors']=(df_clean['ct_seniors']/df_clean['population'])*100\n",
    "df_clean['prop_white']=(df_clean['ct_white']/df_clean['population'])*100\n",
    "df_clean['prop_black']=(df_clean['ct_black']/df_clean['population'])*100\n",
    "df_clean['prop_asian']=(df_clean['ct_asian']/df_clean['population'])*100\n",
    "df_clean['prop_islander']=(df_clean['ct_islander']/df_clean['population'])*100\n",
    "df_clean['prop_native']=(df_clean['ct_native']/df_clean['population'])*100\n",
    "df_clean['prop_multi']=(df_clean['ct_multi']/df_clean['population'])*100\n",
    "df_clean['prop_hispanic']=(df_clean['ct_hispanic']/df_clean['population'])*100\n",
    "df_clean['prop_housing_no_vehicle']=(df_clean['ct_housing_no_vehicle']/df_clean['population'])*100\n",
    "df_clean['prop_snap']=(df_clean['ct_snap']/df_clean['population'])*100\n",
    "\n",
    "df_clean=df_clean.drop(['ct_kids', 'ct_seniors', 'ct_white', 'ct_black', 'ct_asian',\n",
    "       'ct_islander', 'ct_native', 'ct_multi', 'ct_hispanic',\n",
    "       'ct_housing_no_vehicle', 'ct_snap'],axis=1)"
   ]
  },
  {
   "cell_type": "code",
   "execution_count": 30,
   "metadata": {},
   "outputs": [
    {
     "data": {
      "text/plain": [
       "Index(['census_tract', 'population', 'housing_units', 'group_qtr_flag',\n",
       "       'pct_grp_qtr', 'mf_ia_110', 'mf_ia_h110', 'mf_ia_120', 'mf_ia_vehicle',\n",
       "       'f_vehicle_access_flag', 'low_income', 'prop_in_pov', 'median_income',\n",
       "       'mf_a_110', 'mf_a_h110', 'mf_a_120', 'mf_a_h1', 'mf_a_1',\n",
       "       'f_v_access_add_flag', 'prop_a_h1', 'prop_ai_h1', 'prop_a_kids_h1',\n",
       "       'prop_a_sen_h1', 'prop_a_wht_h1', 'prop_a_black_h1', 'prop_a_asian_h1',\n",
       "       'prop_a_islander_h1', 'prop_a_native_h1', 'prop_a_mult_h1',\n",
       "       'prop_a_his_h1', 'prop_va_h1', 'prop_snap_h1', 'ho_tooth_loss',\n",
       "       'ho_arthritis', 'ub_alcoholic', 'ho_cancer', 'prev_c_cancer_screen',\n",
       "       'prev_chol_screen', 'ho_kidney_disease', 'ho_pulmonary',\n",
       "       'ho_ht_disease', 'ho_asthma', 'prev_lack_insurance', 'ub_smoker',\n",
       "       'ho_diabetes', 'prev_blood_test', 'ho_blood_pressure',\n",
       "       'ho_choles_screened', 'prev_mamm_use', 'ho_mental_health',\n",
       "       'ub_no_activity', 'ub_obesity', 'prev_clinical_services_m',\n",
       "       'prev_clinical_services_f', 'ho_physical_health', 'ub_sleep',\n",
       "       'ho_stroke', 'prev_med_bpressure', 'prev_dr_visits', 'prev_checkups',\n",
       "       'state', 'mrfei', 'geometry', 'prop_kids', 'prop_seniors', 'prop_white',\n",
       "       'prop_black', 'prop_asian', 'prop_islander', 'prop_native',\n",
       "       'prop_multi', 'prop_hispanic', 'prop_housing_no_vehicle', 'prop_snap'],\n",
       "      dtype='object')"
      ]
     },
     "execution_count": 30,
     "metadata": {},
     "output_type": "execute_result"
    }
   ],
   "source": [
    "df_clean.columns"
   ]
  },
  {
   "cell_type": "code",
   "execution_count": 31,
   "metadata": {},
   "outputs": [],
   "source": [
    "ind_vars2=df_clean.drop(\"mrfei\",axis=1).columns"
   ]
  },
  {
   "cell_type": "code",
   "execution_count": 32,
   "metadata": {},
   "outputs": [
    {
     "data": {
      "text/plain": [
       "prop_snap_h1               -0.271150\n",
       "prop_ai_h1                 -0.258675\n",
       "prop_va_h1                 -0.251193\n",
       "prop_a_black_h1            -0.230990\n",
       "ho_asthma                  -0.229687\n",
       "mf_ia_vehicle              -0.215845\n",
       "ho_tooth_loss              -0.215134\n",
       "ub_sleep                   -0.212054\n",
       "prop_black                 -0.207473\n",
       "ho_stroke                  -0.204441\n",
       "ub_smoker                  -0.202974\n",
       "ho_mental_health           -0.197537\n",
       "prop_a_kids_h1             -0.191792\n",
       "f_vehicle_access_flag      -0.190839\n",
       "f_v_access_add_flag        -0.190839\n",
       "prop_a_h1                  -0.184408\n",
       "ho_pulmonary               -0.181274\n",
       "ub_obesity                 -0.175511\n",
       "ho_diabetes                -0.175407\n",
       "prop_snap                  -0.175092\n",
       "ho_physical_health         -0.169218\n",
       "ho_kidney_disease          -0.167139\n",
       "prop_in_pov                -0.166430\n",
       "ho_blood_pressure          -0.161426\n",
       "ub_no_activity             -0.150807\n",
       "mf_ia_h110                 -0.150705\n",
       "prop_a_sen_h1              -0.126406\n",
       "prev_checkups              -0.123830\n",
       "ho_ht_disease              -0.120428\n",
       "ho_arthritis               -0.108531\n",
       "prop_housing_no_vehicle    -0.106618\n",
       "prev_mamm_use              -0.103276\n",
       "mf_a_120                   -0.098614\n",
       "mf_a_110                   -0.098614\n",
       "mf_a_1                     -0.098614\n",
       "prop_a_native_h1           -0.089817\n",
       "mf_ia_120                  -0.082019\n",
       "mf_ia_110                  -0.082019\n",
       "low_income                 -0.079203\n",
       "mf_a_h1                    -0.068122\n",
       "mf_a_h110                  -0.068122\n",
       "prop_a_mult_h1             -0.062631\n",
       "prop_a_his_h1              -0.058732\n",
       "prev_lack_insurance        -0.047192\n",
       "prev_med_bpressure         -0.044797\n",
       "group_qtr_flag             -0.040192\n",
       "prop_kids                  -0.022777\n",
       "prop_a_asian_h1            -0.021565\n",
       "pct_grp_qtr                -0.015114\n",
       "prop_a_wht_h1              -0.006950\n",
       "ho_choles_screened         -0.001793\n",
       "prop_seniors                0.022829\n",
       "prop_a_islander_h1          0.031668\n",
       "prop_islander               0.038374\n",
       "prop_asian                  0.055106\n",
       "ho_cancer                   0.059738\n",
       "census_tract                0.064552\n",
       "prev_chol_screen            0.065956\n",
       "prev_blood_test             0.079629\n",
       "prev_c_cancer_screen        0.080348\n",
       "housing_units               0.088813\n",
       "prop_native                 0.098759\n",
       "population                  0.098862\n",
       "ub_alcoholic                0.110064\n",
       "median_income               0.121097\n",
       "prop_hispanic               0.124030\n",
       "prop_multi                  0.133703\n",
       "prev_clinical_services_m    0.162485\n",
       "prev_clinical_services_f    0.164898\n",
       "prev_dr_visits              0.169724\n",
       "prop_white                  0.171342\n",
       "dtype: float64"
      ]
     },
     "execution_count": 32,
     "metadata": {},
     "output_type": "execute_result"
    }
   ],
   "source": [
    "pd.options.display.max_rows=100\n",
    "mrfei_corr2=df_clean[ind_vars2].corrwith(df_clean['mrfei']).sort_values(ascending=True)\n",
    "mrfei_corr2"
   ]
  },
  {
   "cell_type": "code",
   "execution_count": 33,
   "metadata": {},
   "outputs": [
    {
     "data": {
      "text/plain": [
       "<matplotlib.axes._subplots.AxesSubplot at 0x7fd9f3e20990>"
      ]
     },
     "execution_count": 33,
     "metadata": {},
     "output_type": "execute_result"
    },
    {
     "data": {
      "image/png": "[encoded data removed]",
      "text/plain": [
       "<Figure size 432x288 with 1 Axes>"
      ]
     },
     "metadata": {
      "needs_background": "light"
     },
     "output_type": "display_data"
    }
   ],
   "source": [
    "sns.boxplot(df_clean['prop_ai_h1'])"
   ]
  },
  {
   "cell_type": "code",
   "execution_count": 34,
   "metadata": {},
   "outputs": [
    {
     "data": {
      "text/plain": [
       "<matplotlib.axes._subplots.AxesSubplot at 0x7fd9f51cbd50>"
      ]
     },
     "execution_count": 34,
     "metadata": {},
     "output_type": "execute_result"
    },
    {
     "data": {
      "image/png": "[encoded data removed]",
      "text/plain": [
       "<Figure size 432x288 with 1 Axes>"
      ]
     },
     "metadata": {
      "needs_background": "light"
     },
     "output_type": "display_data"
    }
   ],
   "source": [
    "sns.boxplot(df['prop_va_h1'])"
   ]
  },
  {
   "cell_type": "code",
   "execution_count": 35,
   "metadata": {},
   "outputs": [
    {
     "data": {
      "text/plain": [
       "<matplotlib.axes._subplots.AxesSubplot at 0x7fd9f51cb290>"
      ]
     },
     "execution_count": 35,
     "metadata": {},
     "output_type": "execute_result"
    },
    {
     "data": {
      "image/png": "[encoded data removed]",
      "text/plain": [
       "<Figure size 432x288 with 1 Axes>"
      ]
     },
     "metadata": {
      "needs_background": "light"
     },
     "output_type": "display_data"
    }
   ],
   "source": [
    "sns.boxplot(df['prop_a_black_h1'])"
   ]
  },
  {
   "cell_type": "code",
   "execution_count": 36,
   "metadata": {},
   "outputs": [
    {
     "data": {
      "text/plain": [
       "<matplotlib.axes._subplots.AxesSubplot at 0x7fd9f41076d0>"
      ]
     },
     "execution_count": 36,
     "metadata": {},
     "output_type": "execute_result"
    },
    {
     "data": {
      "image/png": "[encoded data removed]",
      "text/plain": [
       "<Figure size 432x288 with 1 Axes>"
      ]
     },
     "metadata": {
      "needs_background": "light"
     },
     "output_type": "display_data"
    }
   ],
   "source": [
    "sns.boxplot(df['ho_asthma'])"
   ]
  },
  {
   "cell_type": "code",
   "execution_count": 37,
   "metadata": {},
   "outputs": [
    {
     "data": {
      "text/plain": [
       "<seaborn.axisgrid.FacetGrid at 0x7fd9f41e2890>"
      ]
     },
     "execution_count": 37,
     "metadata": {},
     "output_type": "execute_result"
    },
    {
     "data": {
      "image/png": "[encoded data removed]",
      "text/plain": [
       "<Figure size 360x360 with 1 Axes>"
      ]
     },
     "metadata": {
      "needs_background": "light"
     },
     "output_type": "display_data"
    }
   ],
   "source": [
    "sns.lmplot(x=\"ho_asthma\",y=\"prop_black\",data=df_clean)"
   ]
  },
  {
   "cell_type": "code",
   "execution_count": 38,
   "metadata": {},
   "outputs": [
    {
     "data": {
      "text/plain": [
       "<matplotlib.axes._subplots.AxesSubplot at 0x7fd9f56afc10>"
      ]
     },
     "execution_count": 38,
     "metadata": {},
     "output_type": "execute_result"
    },
    {
     "data": {
      "image/png": "[encoded data removed]",
      "text/plain": [
       "<Figure size 432x288 with 1 Axes>"
      ]
     },
     "metadata": {
      "needs_background": "light"
     },
     "output_type": "display_data"
    }
   ],
   "source": [
    "sns.boxplot(df_clean['prop_black'])"
   ]
  },
  {
   "cell_type": "code",
   "execution_count": 39,
   "metadata": {},
   "outputs": [
    {
     "data": {
      "text/html": [
       "<div>\n",
       "<style scoped>\n",
       "    .dataframe tbody tr th:only-of-type {\n",
       "        vertical-align: middle;\n",
       "    }\n",
       "\n",
       "    .dataframe tbody tr th {\n",
       "        vertical-align: top;\n",
       "    }\n",
       "\n",
       "    .dataframe thead th {\n",
       "        text-align: right;\n",
       "    }\n",
       "</style>\n",
       "<table border=\"1\" class=\"dataframe\">\n",
       "  <thead>\n",
       "    <tr style=\"text-align: right;\">\n",
       "      <th></th>\n",
       "      <th>census_tract</th>\n",
       "      <th>population</th>\n",
       "      <th>housing_units</th>\n",
       "      <th>group_qtr_flag</th>\n",
       "      <th>pct_grp_qtr</th>\n",
       "      <th>mf_ia_110</th>\n",
       "      <th>mf_ia_h110</th>\n",
       "      <th>mf_ia_120</th>\n",
       "      <th>mf_ia_vehicle</th>\n",
       "      <th>f_vehicle_access_flag</th>\n",
       "      <th>...</th>\n",
       "      <th>prop_seniors</th>\n",
       "      <th>prop_white</th>\n",
       "      <th>prop_black</th>\n",
       "      <th>prop_asian</th>\n",
       "      <th>prop_islander</th>\n",
       "      <th>prop_native</th>\n",
       "      <th>prop_multi</th>\n",
       "      <th>prop_hispanic</th>\n",
       "      <th>prop_housing_no_vehicle</th>\n",
       "      <th>prop_snap</th>\n",
       "    </tr>\n",
       "  </thead>\n",
       "  <tbody>\n",
       "    <tr>\n",
       "      <th>0</th>\n",
       "      <td>17031010100</td>\n",
       "      <td>4854</td>\n",
       "      <td>2302</td>\n",
       "      <td>0</td>\n",
       "      <td>4.49</td>\n",
       "      <td>0</td>\n",
       "      <td>1</td>\n",
       "      <td>0</td>\n",
       "      <td>1</td>\n",
       "      <td>1</td>\n",
       "      <td>...</td>\n",
       "      <td>5.706634</td>\n",
       "      <td>37.288834</td>\n",
       "      <td>50.206016</td>\n",
       "      <td>3.090235</td>\n",
       "      <td>0.020602</td>\n",
       "      <td>0.679852</td>\n",
       "      <td>8.714462</td>\n",
       "      <td>12.690564</td>\n",
       "      <td>23.939019</td>\n",
       "      <td>8.920478</td>\n",
       "    </tr>\n",
       "    <tr>\n",
       "      <th>1</th>\n",
       "      <td>17031010201</td>\n",
       "      <td>6450</td>\n",
       "      <td>2463</td>\n",
       "      <td>0</td>\n",
       "      <td>2.53</td>\n",
       "      <td>0</td>\n",
       "      <td>0</td>\n",
       "      <td>0</td>\n",
       "      <td>0</td>\n",
       "      <td>0</td>\n",
       "      <td>...</td>\n",
       "      <td>4.868217</td>\n",
       "      <td>35.844961</td>\n",
       "      <td>36.434109</td>\n",
       "      <td>4.635659</td>\n",
       "      <td>0.093023</td>\n",
       "      <td>0.744186</td>\n",
       "      <td>22.248062</td>\n",
       "      <td>31.767442</td>\n",
       "      <td>11.643411</td>\n",
       "      <td>13.193798</td>\n",
       "    </tr>\n",
       "    <tr>\n",
       "      <th>2</th>\n",
       "      <td>17031010202</td>\n",
       "      <td>2818</td>\n",
       "      <td>1115</td>\n",
       "      <td>0</td>\n",
       "      <td>11.18</td>\n",
       "      <td>0</td>\n",
       "      <td>0</td>\n",
       "      <td>0</td>\n",
       "      <td>0</td>\n",
       "      <td>0</td>\n",
       "      <td>...</td>\n",
       "      <td>10.965224</td>\n",
       "      <td>43.896380</td>\n",
       "      <td>33.818311</td>\n",
       "      <td>5.074521</td>\n",
       "      <td>0.035486</td>\n",
       "      <td>0.638751</td>\n",
       "      <td>16.536551</td>\n",
       "      <td>27.998581</td>\n",
       "      <td>16.465578</td>\n",
       "      <td>8.232789</td>\n",
       "    </tr>\n",
       "    <tr>\n",
       "      <th>3</th>\n",
       "      <td>17031010300</td>\n",
       "      <td>6236</td>\n",
       "      <td>2826</td>\n",
       "      <td>0</td>\n",
       "      <td>12.68</td>\n",
       "      <td>0</td>\n",
       "      <td>1</td>\n",
       "      <td>0</td>\n",
       "      <td>1</td>\n",
       "      <td>1</td>\n",
       "      <td>...</td>\n",
       "      <td>14.175754</td>\n",
       "      <td>52.389352</td>\n",
       "      <td>27.613855</td>\n",
       "      <td>5.548428</td>\n",
       "      <td>0.256575</td>\n",
       "      <td>0.336754</td>\n",
       "      <td>13.855035</td>\n",
       "      <td>18.745991</td>\n",
       "      <td>15.923669</td>\n",
       "      <td>7.536883</td>\n",
       "    </tr>\n",
       "    <tr>\n",
       "      <th>4</th>\n",
       "      <td>17031010400</td>\n",
       "      <td>5042</td>\n",
       "      <td>2098</td>\n",
       "      <td>0</td>\n",
       "      <td>26.76</td>\n",
       "      <td>0</td>\n",
       "      <td>0</td>\n",
       "      <td>0</td>\n",
       "      <td>0</td>\n",
       "      <td>0</td>\n",
       "      <td>...</td>\n",
       "      <td>5.216184</td>\n",
       "      <td>66.263388</td>\n",
       "      <td>14.458548</td>\n",
       "      <td>11.146370</td>\n",
       "      <td>0.099167</td>\n",
       "      <td>0.337168</td>\n",
       "      <td>7.695359</td>\n",
       "      <td>9.520032</td>\n",
       "      <td>12.990877</td>\n",
       "      <td>5.493852</td>\n",
       "    </tr>\n",
       "  </tbody>\n",
       "</table>\n",
       "<p>5 rows × 74 columns</p>\n",
       "</div>"
      ],
      "text/plain": [
       "   census_tract  population  housing_units  group_qtr_flag  pct_grp_qtr  \\\n",
       "0   17031010100        4854           2302               0         4.49   \n",
       "1   17031010201        6450           2463               0         2.53   \n",
       "2   17031010202        2818           1115               0        11.18   \n",
       "3   17031010300        6236           2826               0        12.68   \n",
       "4   17031010400        5042           2098               0        26.76   \n",
       "\n",
       "   mf_ia_110  mf_ia_h110  mf_ia_120  mf_ia_vehicle  f_vehicle_access_flag  \\\n",
       "0          0           1          0              1                      1   \n",
       "1          0           0          0              0                      0   \n",
       "2          0           0          0              0                      0   \n",
       "3          0           1          0              1                      1   \n",
       "4          0           0          0              0                      0   \n",
       "\n",
       "   ...  prop_seniors  prop_white  prop_black  prop_asian  prop_islander  \\\n",
       "0  ...      5.706634   37.288834   50.206016    3.090235       0.020602   \n",
       "1  ...      4.868217   35.844961   36.434109    4.635659       0.093023   \n",
       "2  ...     10.965224   43.896380   33.818311    5.074521       0.035486   \n",
       "3  ...     14.175754   52.389352   27.613855    5.548428       0.256575   \n",
       "4  ...      5.216184   66.263388   14.458548   11.146370       0.099167   \n",
       "\n",
       "   prop_native  prop_multi  prop_hispanic  prop_housing_no_vehicle  prop_snap  \n",
       "0     0.679852    8.714462      12.690564                23.939019   8.920478  \n",
       "1     0.744186   22.248062      31.767442                11.643411  13.193798  \n",
       "2     0.638751   16.536551      27.998581                16.465578   8.232789  \n",
       "3     0.336754   13.855035      18.745991                15.923669   7.536883  \n",
       "4     0.337168    7.695359       9.520032                12.990877   5.493852  \n",
       "\n",
       "[5 rows x 74 columns]"
      ]
     },
     "execution_count": 39,
     "metadata": {},
     "output_type": "execute_result"
    }
   ],
   "source": [
    "df_clean.head()"
   ]
  },
  {
   "cell_type": "code",
   "execution_count": 40,
   "metadata": {},
   "outputs": [
    {
     "data": {
      "text/plain": [
       "327"
      ]
     },
     "execution_count": 40,
     "metadata": {},
     "output_type": "execute_result"
    }
   ],
   "source": [
    "df.mrfei.isna().sum()"
   ]
  },
  {
   "cell_type": "code",
   "execution_count": 41,
   "metadata": {},
   "outputs": [
    {
     "data": {
      "text/plain": [
       "<matplotlib.axes._subplots.AxesSubplot at 0x7fd9f587a810>"
      ]
     },
     "execution_count": 41,
     "metadata": {},
     "output_type": "execute_result"
    },
    {
     "data": {
      "image/png": "[encoded data removed]",
      "text/plain": [
       "<Figure size 432x288 with 1 Axes>"
      ]
     },
     "metadata": {
      "needs_background": "light"
     },
     "output_type": "display_data"
    }
   ],
   "source": [
    "sns.distplot(df_clean['prop_snap'])"
   ]
  },
  {
   "cell_type": "code",
   "execution_count": 42,
   "metadata": {},
   "outputs": [
    {
     "data": {
      "text/plain": [
       "<matplotlib.axes._subplots.AxesSubplot at 0x7fd9f5a18810>"
      ]
     },
     "execution_count": 42,
     "metadata": {},
     "output_type": "execute_result"
    },
    {
     "data": {
      "image/png": "[encoded data removed]",
      "text/plain": [
       "<Figure size 432x288 with 1 Axes>"
      ]
     },
     "metadata": {
      "needs_background": "light"
     },
     "output_type": "display_data"
    }
   ],
   "source": [
    "sns.distplot(df_clean['prop_black'])"
   ]
  },
  {
   "cell_type": "code",
   "execution_count": 43,
   "metadata": {},
   "outputs": [
    {
     "data": {
      "text/plain": [
       "<matplotlib.axes._subplots.AxesSubplot at 0x7fd9f5ae8390>"
      ]
     },
     "execution_count": 43,
     "metadata": {},
     "output_type": "execute_result"
    },
    {
     "data": {
      "image/png": "[encoded data removed]",
      "text/plain": [
       "<Figure size 432x288 with 1 Axes>"
      ]
     },
     "metadata": {
      "needs_background": "light"
     },
     "output_type": "display_data"
    }
   ],
   "source": [
    "sns.boxplot(df_clean['prop_black'])"
   ]
  },
  {
   "cell_type": "code",
   "execution_count": 44,
   "metadata": {},
   "outputs": [
    {
     "data": {
      "text/plain": [
       "[]"
      ]
     },
     "execution_count": 44,
     "metadata": {},
     "output_type": "execute_result"
    },
    {
     "data": {
      "image/png": "[encoded data removed]",
      "text/plain": [
       "<Figure size 432x288 with 1 Axes>"
      ]
     },
     "metadata": {
      "needs_background": "light"
     },
     "output_type": "display_data"
    }
   ],
   "source": [
    "df_clean['prop_black'].hist().plot()"
   ]
  },
  {
   "cell_type": "code",
   "execution_count": 45,
   "metadata": {},
   "outputs": [
    {
     "data": {
      "text/plain": [
       "6.100869743839141"
      ]
     },
     "execution_count": 45,
     "metadata": {},
     "output_type": "execute_result"
    }
   ],
   "source": [
    "df_clean['prop_black'].median()"
   ]
  },
  {
   "cell_type": "code",
   "execution_count": 46,
   "metadata": {},
   "outputs": [
    {
     "data": {
      "text/plain": [
       "90054.0"
      ]
     },
     "execution_count": 46,
     "metadata": {},
     "output_type": "execute_result"
    }
   ],
   "source": [
    "#Seggregation of the population is clearly reflected in the bimodal distribution of the proportion of Black people\n",
    "#in different census tracts.\n",
    "\n",
    "df_clean[df_clean['prop_black']<6.101]['median_income'].median()\n",
    "\n"
   ]
  },
  {
   "cell_type": "code",
   "execution_count": 47,
   "metadata": {},
   "outputs": [
    {
     "data": {
      "text/plain": [
       "52500.0"
      ]
     },
     "execution_count": 47,
     "metadata": {},
     "output_type": "execute_result"
    }
   ],
   "source": [
    "df_clean[df_clean['prop_black']>6.101]['median_income'].median()"
   ]
  },
  {
   "cell_type": "code",
   "execution_count": 48,
   "metadata": {},
   "outputs": [
    {
     "data": {
      "text/plain": [
       "7.6923076923076925"
      ]
     },
     "execution_count": 48,
     "metadata": {},
     "output_type": "execute_result"
    }
   ],
   "source": [
    "df_clean[df_clean['prop_black']<6.101]['mrfei'].median()"
   ]
  },
  {
   "cell_type": "code",
   "execution_count": 49,
   "metadata": {},
   "outputs": [
    {
     "data": {
      "text/plain": [
       "6.417295813315031"
      ]
     },
     "execution_count": 49,
     "metadata": {},
     "output_type": "execute_result"
    }
   ],
   "source": [
    "df_clean[df_clean['prop_black']>6.101]['mrfei'].median()"
   ]
  },
  {
   "cell_type": "code",
   "execution_count": 50,
   "metadata": {},
   "outputs": [
    {
     "data": {
      "text/plain": [
       "7.948129374435025"
      ]
     },
     "execution_count": 50,
     "metadata": {},
     "output_type": "execute_result"
    }
   ],
   "source": [
    "df_clean[df_clean['prop_black']<6.101]['mrfei'].mean()"
   ]
  },
  {
   "cell_type": "code",
   "execution_count": 51,
   "metadata": {},
   "outputs": [
    {
     "data": {
      "text/plain": [
       "6.944303309600804"
      ]
     },
     "execution_count": 51,
     "metadata": {},
     "output_type": "execute_result"
    }
   ],
   "source": [
    "df_clean[df_clean['prop_black']>6.101]['mrfei'].mean()"
   ]
  },
  {
   "cell_type": "code",
   "execution_count": 70,
   "metadata": {},
   "outputs": [
    {
     "data": {
      "text/html": [
       "<div>\n",
       "<style scoped>\n",
       "    .dataframe tbody tr th:only-of-type {\n",
       "        vertical-align: middle;\n",
       "    }\n",
       "\n",
       "    .dataframe tbody tr th {\n",
       "        vertical-align: top;\n",
       "    }\n",
       "\n",
       "    .dataframe thead th {\n",
       "        text-align: right;\n",
       "    }\n",
       "</style>\n",
       "<table border=\"1\" class=\"dataframe\">\n",
       "  <thead>\n",
       "    <tr style=\"text-align: right;\">\n",
       "      <th></th>\n",
       "      <th>T</th>\n",
       "      <th>dof</th>\n",
       "      <th>tail</th>\n",
       "      <th>p-val</th>\n",
       "      <th>CI95%</th>\n",
       "      <th>cohen-d</th>\n",
       "      <th>BF10</th>\n",
       "      <th>power</th>\n",
       "    </tr>\n",
       "  </thead>\n",
       "  <tbody>\n",
       "    <tr>\n",
       "      <th>T-test</th>\n",
       "      <td>-2.713232</td>\n",
       "      <td>977.877591</td>\n",
       "      <td>less</td>\n",
       "      <td>0.00339</td>\n",
       "      <td>[-inf, -0.39]</td>\n",
       "      <td>0.17257</td>\n",
       "      <td>5.296</td>\n",
       "      <td>0.856325</td>\n",
       "    </tr>\n",
       "  </tbody>\n",
       "</table>\n",
       "</div>"
      ],
      "text/plain": [
       "               T         dof  tail    p-val          CI95%  cohen-d   BF10  \\\n",
       "T-test -2.713232  977.877591  less  0.00339  [-inf, -0.39]  0.17257  5.296   \n",
       "\n",
       "           power  \n",
       "T-test  0.856325  "
      ]
     },
     "execution_count": 70,
     "metadata": {},
     "output_type": "execute_result"
    }
   ],
   "source": [
    "#ttest to see if difference in mean is statistically significant\n",
    "import pingouin\n",
    "#from scipy.stats import ttest_ind\n",
    "pingouin.ttest(df_clean[df_clean['prop_black']>6.101]['mrfei'],df_clean[df_clean['prop_black']<6.101]['mrfei'],tail=\"one-sided\")\n",
    "#ttest_ind(df_clean[df_clean['prop_black']>6.101]['mrfei'],df_clean[df_clean['prop_black']<6.101]['mrfei'])"
   ]
  },
  {
   "cell_type": "code",
   "execution_count": 53,
   "metadata": {},
   "outputs": [
    {
     "data": {
      "text/plain": [
       "[]"
      ]
     },
     "execution_count": 53,
     "metadata": {},
     "output_type": "execute_result"
    },
    {
     "data": {
      "image/png": "[encoded data removed]",
      "text/plain": [
       "<Figure size 432x288 with 1 Axes>"
      ]
     },
     "metadata": {
      "needs_background": "light"
     },
     "output_type": "display_data"
    }
   ],
   "source": [
    "df_clean[df_clean['prop_black']<6.101]['mrfei'].hist().plot()"
   ]
  },
  {
   "cell_type": "code",
   "execution_count": 54,
   "metadata": {},
   "outputs": [
    {
     "data": {
      "text/plain": [
       "[]"
      ]
     },
     "execution_count": 54,
     "metadata": {},
     "output_type": "execute_result"
    },
    {
     "data": {
      "image/png": "[encoded data removed]",
      "text/plain": [
       "<Figure size 432x288 with 1 Axes>"
      ]
     },
     "metadata": {
      "needs_background": "light"
     },
     "output_type": "display_data"
    }
   ],
   "source": [
    "#MRFEI data appears more right-skewed in census tracts with a proportion of Black people above the median\n",
    "df_clean[df_clean['prop_black']>6.101]['mrfei'].hist().plot()"
   ]
  },
  {
   "cell_type": "code",
   "execution_count": 55,
   "metadata": {},
   "outputs": [
    {
     "data": {
      "text/plain": [
       "[]"
      ]
     },
     "execution_count": 55,
     "metadata": {},
     "output_type": "execute_result"
    },
    {
     "data": {
      "image/png": "[encoded data removed]",
      "text/plain": [
       "<Figure size 432x288 with 1 Axes>"
      ]
     },
     "metadata": {
      "needs_background": "light"
     },
     "output_type": "display_data"
    }
   ],
   "source": [
    "df_clean[df_clean['prop_black']<6.101]['median_income'].hist().plot()"
   ]
  },
  {
   "cell_type": "code",
   "execution_count": 56,
   "metadata": {},
   "outputs": [
    {
     "data": {
      "text/plain": [
       "<bound method Axes.plot of <matplotlib.axes._subplots.AxesSubplot object at 0x7fd9f5fa7250>>"
      ]
     },
     "execution_count": 56,
     "metadata": {},
     "output_type": "execute_result"
    },
    {
     "data": {
      "image/png": "[encoded data removed]",
      "text/plain": [
       "<Figure size 432x288 with 1 Axes>"
      ]
     },
     "metadata": {
      "needs_background": "light"
     },
     "output_type": "display_data"
    }
   ],
   "source": [
    "df_clean[df_clean['prop_black']>6.101]['median_income'].hist().plot"
   ]
  },
  {
   "cell_type": "code",
   "execution_count": 57,
   "metadata": {},
   "outputs": [
    {
     "data": {
      "text/plain": [
       "<matplotlib.axes._subplots.AxesSubplot at 0x7fd9f61be110>"
      ]
     },
     "execution_count": 57,
     "metadata": {},
     "output_type": "execute_result"
    },
    {
     "data": {
      "image/png": "[encoded data removed]",
      "text/plain": [
       "<Figure size 432x288 with 1 Axes>"
      ]
     },
     "metadata": {
      "needs_background": "light"
     },
     "output_type": "display_data"
    }
   ],
   "source": [
    "sns.scatterplot(x=\"prop_black\",y='mrfei',data=df_clean[df_clean['prop_black']>6.101])"
   ]
  },
  {
   "cell_type": "code",
   "execution_count": 58,
   "metadata": {},
   "outputs": [
    {
     "data": {
      "text/plain": [
       "<matplotlib.axes._subplots.AxesSubplot at 0x7fd9f629d490>"
      ]
     },
     "execution_count": 58,
     "metadata": {},
     "output_type": "execute_result"
    },
    {
     "data": {
      "image/png": "[encoded data removed]",
      "text/plain": [
       "<Figure size 432x288 with 1 Axes>"
      ]
     },
     "metadata": {
      "needs_background": "light"
     },
     "output_type": "display_data"
    }
   ],
   "source": [
    "sns.scatterplot(x=\"prop_black\",y='mrfei',data=df_clean[df_clean['prop_black']<6.101])"
   ]
  },
  {
   "cell_type": "code",
   "execution_count": 59,
   "metadata": {},
   "outputs": [
    {
     "data": {
      "text/plain": [
       "69135.5"
      ]
     },
     "execution_count": 59,
     "metadata": {},
     "output_type": "execute_result"
    }
   ],
   "source": [
    "df_clean['median_income'].median()"
   ]
  },
  {
   "cell_type": "code",
   "execution_count": 60,
   "metadata": {},
   "outputs": [
    {
     "data": {
      "text/plain": [
       "7.407407407407407"
      ]
     },
     "execution_count": 60,
     "metadata": {},
     "output_type": "execute_result"
    }
   ],
   "source": [
    "#Median MRFEI for tracts above median income\n",
    "df_clean[df_clean['median_income']>69135.5]['mrfei'].median()"
   ]
  },
  {
   "cell_type": "code",
   "execution_count": 61,
   "metadata": {},
   "outputs": [
    {
     "data": {
      "text/plain": [
       "6.25"
      ]
     },
     "execution_count": 61,
     "metadata": {},
     "output_type": "execute_result"
    }
   ],
   "source": [
    "df_clean[df_clean['median_income']<69135.5]['mrfei'].median()"
   ]
  },
  {
   "cell_type": "code",
   "execution_count": 62,
   "metadata": {},
   "outputs": [
    {
     "data": {
      "text/plain": [
       "1.275011878992661"
      ]
     },
     "execution_count": 62,
     "metadata": {},
     "output_type": "execute_result"
    }
   ],
   "source": [
    "#Difference in median MRFEI between tracts where the proportion of black residents is under the median proportion\n",
    "#and over the median proportion\n",
    "7.6923076923076925-6.4172958133150315"
   ]
  },
  {
   "cell_type": "code",
   "execution_count": 63,
   "metadata": {},
   "outputs": [
    {
     "data": {
      "text/plain": [
       "1.1574074074074074"
      ]
     },
     "execution_count": 63,
     "metadata": {},
     "output_type": "execute_result"
    }
   ],
   "source": [
    "#Difference in median MRFEI between tracts over the median income and under the median income\n",
    "7.407407407407407-6.25"
   ]
  },
  {
   "cell_type": "code",
   "execution_count": 64,
   "metadata": {},
   "outputs": [
    {
     "data": {
      "text/plain": [
       "2.9092702169625246"
      ]
     },
     "execution_count": 64,
     "metadata": {},
     "output_type": "execute_result"
    }
   ],
   "source": [
    "df_clean[df_clean['median_income']>69135.5]['prop_black'].median()"
   ]
  },
  {
   "cell_type": "code",
   "execution_count": 65,
   "metadata": {},
   "outputs": [
    {
     "data": {
      "text/plain": [
       "45.39896056251911"
      ]
     },
     "execution_count": 65,
     "metadata": {},
     "output_type": "execute_result"
    }
   ],
   "source": [
    "df_clean[df_clean['median_income']<69135.5]['prop_black'].median()"
   ]
  },
  {
   "cell_type": "code",
   "execution_count": 72,
   "metadata": {},
   "outputs": [],
   "source": [
    "df_less_med_income=df_clean[df_clean['median_income']<69135.5]"
   ]
  },
  {
   "cell_type": "code",
   "execution_count": 74,
   "metadata": {},
   "outputs": [
    {
     "data": {
      "text/plain": [
       "6.243277974192565"
      ]
     },
     "execution_count": 74,
     "metadata": {},
     "output_type": "execute_result"
    }
   ],
   "source": [
    "#ttest for mrfei mean in tracts with more and less prop_black than mean and with less income than median \n",
    "df_less_med_income[df_less_med_income['prop_black']<6.101]['mrfei'].mean()\n",
    "\n",
    "\n",
    "#pingouin.ttest(df_clean[df_clean['prop_black']>6.101]['mrfei'],df_clean[df_clean['prop_black']<6.101]['mrfei'],tail=\"one-sided\")"
   ]
  },
  {
   "cell_type": "code",
   "execution_count": 66,
   "metadata": {},
   "outputs": [
    {
     "data": {
      "text/plain": [
       "<matplotlib.axes._subplots.AxesSubplot at 0x7fd9f6395750>"
      ]
     },
     "execution_count": 66,
     "metadata": {},
     "output_type": "execute_result"
    },
    {
     "data": {
      "image/png": "[encoded data removed]",
      "text/plain": [
       "<Figure size 432x288 with 1 Axes>"
      ]
     },
     "metadata": {
      "needs_background": "light"
     },
     "output_type": "display_data"
    }
   ],
   "source": [
    "sns.boxplot(df_clean[df_clean['prop_black']>6.101]['median_income'])"
   ]
  },
  {
   "cell_type": "code",
   "execution_count": 67,
   "metadata": {},
   "outputs": [
    {
     "data": {
      "text/plain": [
       "<matplotlib.axes._subplots.AxesSubplot at 0x7fd9f5d621d0>"
      ]
     },
     "execution_count": 67,
     "metadata": {},
     "output_type": "execute_result"
    },
    {
     "data": {
      "image/png": "[encoded data removed]",
      "text/plain": [
       "<Figure size 432x288 with 1 Axes>"
      ]
     },
     "metadata": {
      "needs_background": "light"
     },
     "output_type": "display_data"
    }
   ],
   "source": [
    "sns.boxplot(df_clean[df_clean['prop_black']<6.101]['median_income'])"
   ]
  },
  {
   "cell_type": "code",
   "execution_count": 75,
   "metadata": {},
   "outputs": [
    {
     "data": {
      "text/plain": [
       "<matplotlib.axes._subplots.AxesSubplot at 0x7fd9f5f5ab50>"
      ]
     },
     "execution_count": 75,
     "metadata": {},
     "output_type": "execute_result"
    },
    {
     "data": {
      "image/png": "[encoded data removed]",
      "text/plain": [
       "<Figure size 432x288 with 1 Axes>"
      ]
     },
     "metadata": {
      "needs_background": "light"
     },
     "output_type": "display_data"
    }
   ],
   "source": [
    "sns.scatterplot(x='census_tract',y='prop_black',data=df_clean)"
   ]
  },
  {
   "cell_type": "code",
   "execution_count": 68,
   "metadata": {},
   "outputs": [],
   "source": [
    "#Hypothesis 1: Majority Black census tracts are more likely to have low access to healthy foods and adverse health\n",
    "#outcomes, regardless of income, than census tracts with a lower proportion of black people"
   ]
  },
  {
   "cell_type": "code",
   "execution_count": null,
   "metadata": {},
   "outputs": [],
   "source": []
  },
  {
   "cell_type": "code",
   "execution_count": null,
   "metadata": {},
   "outputs": [],
   "source": []
  }
 ],
 "metadata": {
  "kernelspec": {
   "display_name": "Python 3",
   "language": "python",
   "name": "python3"
  },
  "language_info": {
   "codemirror_mode": {
    "name": "ipython",
    "version": 3
   },
   "file_extension": ".py",
   "mimetype": "text/x-python",
   "name": "python",
   "nbconvert_exporter": "python",
   "pygments_lexer": "ipython3",
   "version": "3.7.7"
  }
 },
 "nbformat": 4,
 "nbformat_minor": 4
}
