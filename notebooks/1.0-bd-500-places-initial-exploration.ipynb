{
 "cells": [
  {
   "cell_type": "code",
   "execution_count": 1,
   "metadata": {},
   "outputs": [],
   "source": [
    "import os\n",
    "import sys\n",
    "\n",
    "import seaborn as sns\n",
    "import matplotlib.pyplot as plt\n",
    "\n",
    "import numpy as np\n",
    "import pandas as pd\n",
    "\n",
    "PROJ_ROOT = os.path.join(os.pardir)"
   ]
  },
  {
   "cell_type": "code",
   "execution_count": 2,
   "metadata": {},
   "outputs": [],
   "source": [
    "data_path = os.path.join(PROJ_ROOT, \n",
    "                         'data',\n",
    "                         'raw',\n",
    "                         '500_places.csv')\n",
    "\n",
    "df = pd.read_csv(data_path)"
   ]
  },
  {
   "cell_type": "code",
   "execution_count": 3,
   "metadata": {},
   "outputs": [
    {
     "data": {
      "text/html": [
       "<div>\n",
       "<style scoped>\n",
       "    .dataframe tbody tr th:only-of-type {\n",
       "        vertical-align: middle;\n",
       "    }\n",
       "\n",
       "    .dataframe tbody tr th {\n",
       "        vertical-align: top;\n",
       "    }\n",
       "\n",
       "    .dataframe thead th {\n",
       "        text-align: right;\n",
       "    }\n",
       "</style>\n",
       "<table border=\"1\" class=\"dataframe\">\n",
       "  <thead>\n",
       "    <tr style=\"text-align: right;\">\n",
       "      <th></th>\n",
       "      <th>measure</th>\n",
       "      <th>data_value_unit</th>\n",
       "      <th>data_value_type</th>\n",
       "      <th>data_value</th>\n",
       "      <th>data_value_footnote_symbol</th>\n",
       "      <th>data_value_footnote</th>\n",
       "      <th>low_confidence_limit</th>\n",
       "      <th>high_confidence_limit</th>\n",
       "      <th>totalpopulation</th>\n",
       "      <th>geolocation</th>\n",
       "      <th>locationid</th>\n",
       "      <th>categoryid</th>\n",
       "      <th>measureid</th>\n",
       "      <th>datavaluetypeid</th>\n",
       "      <th>short_question_text</th>\n",
       "    </tr>\n",
       "  </thead>\n",
       "  <tbody>\n",
       "    <tr>\n",
       "      <th>0</th>\n",
       "      <td>Stroke among adults aged &gt;=18 years</td>\n",
       "      <td>%</td>\n",
       "      <td>Crude prevalence</td>\n",
       "      <td>3.8</td>\n",
       "      <td>NaN</td>\n",
       "      <td>NaN</td>\n",
       "      <td>3.5</td>\n",
       "      <td>4.0</td>\n",
       "      <td>6214</td>\n",
       "      <td>POINT (-87.68417063 42.00131857)</td>\n",
       "      <td>17031020500</td>\n",
       "      <td>HLTHOUT</td>\n",
       "      <td>STROKE</td>\n",
       "      <td>CrdPrv</td>\n",
       "      <td>Stroke</td>\n",
       "    </tr>\n",
       "  </tbody>\n",
       "</table>\n",
       "</div>"
      ],
      "text/plain": [
       "                               measure data_value_unit   data_value_type  \\\n",
       "0  Stroke among adults aged >=18 years               %  Crude prevalence   \n",
       "\n",
       "   data_value  data_value_footnote_symbol  data_value_footnote  \\\n",
       "0         3.8                         NaN                  NaN   \n",
       "\n",
       "   low_confidence_limit  high_confidence_limit  totalpopulation  \\\n",
       "0                   3.5                    4.0             6214   \n",
       "\n",
       "                        geolocation   locationid categoryid measureid  \\\n",
       "0  POINT (-87.68417063 42.00131857)  17031020500    HLTHOUT    STROKE   \n",
       "\n",
       "  datavaluetypeid short_question_text  \n",
       "0          CrdPrv              Stroke  "
      ]
     },
     "execution_count": 3,
     "metadata": {},
     "output_type": "execute_result"
    }
   ],
   "source": [
    "df.head(1).iloc[:,8:]"
   ]
  },
  {
   "cell_type": "code",
   "execution_count": 4,
   "metadata": {},
   "outputs": [
    {
     "data": {
      "text/plain": [
       "(36792, 23)"
      ]
     },
     "execution_count": 4,
     "metadata": {},
     "output_type": "execute_result"
    }
   ],
   "source": [
    "df.shape\n"
   ]
  },
  {
   "cell_type": "code",
   "execution_count": 5,
   "metadata": {},
   "outputs": [
    {
     "name": "stdout",
     "output_type": "stream",
     "text": [
      "<class 'pandas.core.frame.DataFrame'>\n",
      "RangeIndex: 36792 entries, 0 to 36791\n",
      "Data columns (total 23 columns):\n",
      "year                          36792 non-null int64\n",
      "stateabbr                     36792 non-null object\n",
      "statedesc                     36792 non-null object\n",
      "countyname                    36792 non-null object\n",
      "countyfips                    36792 non-null int64\n",
      "locationname                  36792 non-null int64\n",
      "datasource                    36792 non-null object\n",
      "category                      36792 non-null object\n",
      "measure                       36792 non-null object\n",
      "data_value_unit               36792 non-null object\n",
      "data_value_type               36792 non-null object\n",
      "data_value                    36792 non-null float64\n",
      "data_value_footnote_symbol    0 non-null float64\n",
      "data_value_footnote           0 non-null float64\n",
      "low_confidence_limit          36792 non-null float64\n",
      "high_confidence_limit         36792 non-null float64\n",
      "totalpopulation               36792 non-null int64\n",
      "geolocation                   36792 non-null object\n",
      "locationid                    36792 non-null int64\n",
      "categoryid                    36792 non-null object\n",
      "measureid                     36792 non-null object\n",
      "datavaluetypeid               36792 non-null object\n",
      "short_question_text           36792 non-null object\n",
      "dtypes: float64(5), int64(5), object(13)\n",
      "memory usage: 6.5+ MB\n"
     ]
    }
   ],
   "source": [
    "df.info()"
   ]
  },
  {
   "cell_type": "code",
   "execution_count": 6,
   "metadata": {},
   "outputs": [],
   "source": [
    "columns = ['year','locationname','datasource','category','measure','data_value_unit',\n",
    "           'data_value_type','data_value','totalpopulation','measureid','short_question_text']\n",
    "df = df.drop((set(df.columns) - set(columns)), axis=1)\n",
    "df=df[columns]"
   ]
  },
  {
   "cell_type": "code",
   "execution_count": 7,
   "metadata": {},
   "outputs": [
    {
     "data": {
      "text/html": [
       "<div>\n",
       "<style scoped>\n",
       "    .dataframe tbody tr th:only-of-type {\n",
       "        vertical-align: middle;\n",
       "    }\n",
       "\n",
       "    .dataframe tbody tr th {\n",
       "        vertical-align: top;\n",
       "    }\n",
       "\n",
       "    .dataframe thead th {\n",
       "        text-align: right;\n",
       "    }\n",
       "</style>\n",
       "<table border=\"1\" class=\"dataframe\">\n",
       "  <thead>\n",
       "    <tr style=\"text-align: right;\">\n",
       "      <th></th>\n",
       "      <th>year</th>\n",
       "      <th>locationname</th>\n",
       "      <th>datasource</th>\n",
       "      <th>category</th>\n",
       "      <th>measure</th>\n",
       "      <th>data_value_unit</th>\n",
       "      <th>data_value_type</th>\n",
       "      <th>data_value</th>\n",
       "      <th>totalpopulation</th>\n",
       "      <th>measureid</th>\n",
       "      <th>short_question_text</th>\n",
       "    </tr>\n",
       "  </thead>\n",
       "  <tbody>\n",
       "    <tr>\n",
       "      <th>0</th>\n",
       "      <td>2018</td>\n",
       "      <td>17031020500</td>\n",
       "      <td>BRFSS</td>\n",
       "      <td>Health Outcomes</td>\n",
       "      <td>Stroke among adults aged &gt;=18 years</td>\n",
       "      <td>%</td>\n",
       "      <td>Crude prevalence</td>\n",
       "      <td>3.8</td>\n",
       "      <td>6214</td>\n",
       "      <td>STROKE</td>\n",
       "      <td>Stroke</td>\n",
       "    </tr>\n",
       "    <tr>\n",
       "      <th>1</th>\n",
       "      <td>2018</td>\n",
       "      <td>17031020901</td>\n",
       "      <td>BRFSS</td>\n",
       "      <td>Health Outcomes</td>\n",
       "      <td>Stroke among adults aged &gt;=18 years</td>\n",
       "      <td>%</td>\n",
       "      <td>Crude prevalence</td>\n",
       "      <td>3.1</td>\n",
       "      <td>5221</td>\n",
       "      <td>STROKE</td>\n",
       "      <td>Stroke</td>\n",
       "    </tr>\n",
       "    <tr>\n",
       "      <th>2</th>\n",
       "      <td>2018</td>\n",
       "      <td>17031030300</td>\n",
       "      <td>BRFSS</td>\n",
       "      <td>Unhealthy Behaviors</td>\n",
       "      <td>Obesity among adults aged &gt;=18 years</td>\n",
       "      <td>%</td>\n",
       "      <td>Crude prevalence</td>\n",
       "      <td>30.5</td>\n",
       "      <td>3322</td>\n",
       "      <td>OBESITY</td>\n",
       "      <td>Obesity</td>\n",
       "    </tr>\n",
       "    <tr>\n",
       "      <th>3</th>\n",
       "      <td>2018</td>\n",
       "      <td>17031030702</td>\n",
       "      <td>BRFSS</td>\n",
       "      <td>Health Outcomes</td>\n",
       "      <td>Stroke among adults aged &gt;=18 years</td>\n",
       "      <td>%</td>\n",
       "      <td>Crude prevalence</td>\n",
       "      <td>2.4</td>\n",
       "      <td>1630</td>\n",
       "      <td>STROKE</td>\n",
       "      <td>Stroke</td>\n",
       "    </tr>\n",
       "    <tr>\n",
       "      <th>4</th>\n",
       "      <td>2018</td>\n",
       "      <td>17031040402</td>\n",
       "      <td>BRFSS</td>\n",
       "      <td>Unhealthy Behaviors</td>\n",
       "      <td>Obesity among adults aged &gt;=18 years</td>\n",
       "      <td>%</td>\n",
       "      <td>Crude prevalence</td>\n",
       "      <td>23.8</td>\n",
       "      <td>4468</td>\n",
       "      <td>OBESITY</td>\n",
       "      <td>Obesity</td>\n",
       "    </tr>\n",
       "  </tbody>\n",
       "</table>\n",
       "</div>"
      ],
      "text/plain": [
       "   year  locationname datasource             category  \\\n",
       "0  2018   17031020500      BRFSS      Health Outcomes   \n",
       "1  2018   17031020901      BRFSS      Health Outcomes   \n",
       "2  2018   17031030300      BRFSS  Unhealthy Behaviors   \n",
       "3  2018   17031030702      BRFSS      Health Outcomes   \n",
       "4  2018   17031040402      BRFSS  Unhealthy Behaviors   \n",
       "\n",
       "                                measure data_value_unit   data_value_type  \\\n",
       "0   Stroke among adults aged >=18 years               %  Crude prevalence   \n",
       "1   Stroke among adults aged >=18 years               %  Crude prevalence   \n",
       "2  Obesity among adults aged >=18 years               %  Crude prevalence   \n",
       "3   Stroke among adults aged >=18 years               %  Crude prevalence   \n",
       "4  Obesity among adults aged >=18 years               %  Crude prevalence   \n",
       "\n",
       "   data_value  totalpopulation measureid short_question_text  \n",
       "0         3.8             6214    STROKE              Stroke  \n",
       "1         3.1             5221    STROKE              Stroke  \n",
       "2        30.5             3322   OBESITY             Obesity  \n",
       "3         2.4             1630    STROKE              Stroke  \n",
       "4        23.8             4468   OBESITY             Obesity  "
      ]
     },
     "execution_count": 7,
     "metadata": {},
     "output_type": "execute_result"
    }
   ],
   "source": [
    "df.head()"
   ]
  },
  {
   "cell_type": "code",
   "execution_count": 8,
   "metadata": {},
   "outputs": [
    {
     "name": "stdout",
     "output_type": "stream",
     "text": [
      "<class 'pandas.core.frame.DataFrame'>\n",
      "RangeIndex: 36792 entries, 0 to 36791\n",
      "Data columns (total 11 columns):\n",
      "year                   36792 non-null int64\n",
      "locationname           36792 non-null int64\n",
      "datasource             36792 non-null object\n",
      "category               36792 non-null object\n",
      "measure                36792 non-null object\n",
      "data_value_unit        36792 non-null object\n",
      "data_value_type        36792 non-null object\n",
      "data_value             36792 non-null float64\n",
      "totalpopulation        36792 non-null int64\n",
      "measureid              36792 non-null object\n",
      "short_question_text    36792 non-null object\n",
      "dtypes: float64(1), int64(3), object(7)\n",
      "memory usage: 3.1+ MB\n"
     ]
    }
   ],
   "source": [
    "df.info()"
   ]
  },
  {
   "cell_type": "markdown",
   "metadata": {},
   "source": [
    "All data seems to be in the correct data type with no missing values."
   ]
  },
  {
   "cell_type": "markdown",
   "metadata": {},
   "source": [
    "### Invetigate Columns"
   ]
  },
  {
   "cell_type": "markdown",
   "metadata": {},
   "source": [
    "**Year**"
   ]
  },
  {
   "cell_type": "code",
   "execution_count": 9,
   "metadata": {},
   "outputs": [
    {
     "data": {
      "text/plain": [
       "2018    0.857143\n",
       "2017    0.142857\n",
       "Name: year, dtype: float64"
      ]
     },
     "metadata": {},
     "output_type": "display_data"
    },
    {
     "data": {
      "text/plain": [
       "2018    31536\n",
       "2017     5256\n",
       "Name: year, dtype: int64"
      ]
     },
     "execution_count": 9,
     "metadata": {},
     "output_type": "execute_result"
    }
   ],
   "source": [
    "display(df.year.value_counts(normalize=True))\n",
    "df.year.value_counts()"
   ]
  },
  {
   "cell_type": "markdown",
   "metadata": {},
   "source": [
    "**Locaion Name** Census Tract ID <br>"
   ]
  },
  {
   "cell_type": "code",
   "execution_count": 10,
   "metadata": {},
   "outputs": [
    {
     "data": {
      "text/plain": [
       "1314"
      ]
     },
     "execution_count": 10,
     "metadata": {},
     "output_type": "execute_result"
    }
   ],
   "source": [
    "df.locationname.nunique()"
   ]
  },
  {
   "cell_type": "code",
   "execution_count": 11,
   "metadata": {},
   "outputs": [
    {
     "data": {
      "text/plain": [
       "array([28], dtype=int64)"
      ]
     },
     "execution_count": 11,
     "metadata": {},
     "output_type": "execute_result"
    }
   ],
   "source": [
    "df.locationname.value_counts().unique()"
   ]
  },
  {
   "cell_type": "code",
   "execution_count": 12,
   "metadata": {},
   "outputs": [
    {
     "data": {
      "text/html": [
       "<div>\n",
       "<style scoped>\n",
       "    .dataframe tbody tr th:only-of-type {\n",
       "        vertical-align: middle;\n",
       "    }\n",
       "\n",
       "    .dataframe tbody tr th {\n",
       "        vertical-align: top;\n",
       "    }\n",
       "\n",
       "    .dataframe thead th {\n",
       "        text-align: right;\n",
       "    }\n",
       "</style>\n",
       "<table border=\"1\" class=\"dataframe\">\n",
       "  <thead>\n",
       "    <tr style=\"text-align: right;\">\n",
       "      <th></th>\n",
       "      <th>locationname</th>\n",
       "    </tr>\n",
       "  </thead>\n",
       "  <tbody>\n",
       "    <tr>\n",
       "      <th>0</th>\n",
       "      <td>17031020500</td>\n",
       "    </tr>\n",
       "    <tr>\n",
       "      <th>1</th>\n",
       "      <td>17031020901</td>\n",
       "    </tr>\n",
       "    <tr>\n",
       "      <th>36790</th>\n",
       "      <td>17031819400</td>\n",
       "    </tr>\n",
       "    <tr>\n",
       "      <th>36791</th>\n",
       "      <td>17031825505</td>\n",
       "    </tr>\n",
       "  </tbody>\n",
       "</table>\n",
       "</div>"
      ],
      "text/plain": [
       "       locationname\n",
       "0       17031020500\n",
       "1       17031020901\n",
       "36790   17031819400\n",
       "36791   17031825505"
      ]
     },
     "execution_count": 12,
     "metadata": {},
     "output_type": "execute_result"
    }
   ],
   "source": [
    "df.iloc[np.r_[0:2, -2:0]][['locationname']]"
   ]
  },
  {
   "cell_type": "code",
   "execution_count": 13,
   "metadata": {},
   "outputs": [
    {
     "name": "stdout",
     "output_type": "stream",
     "text": [
      "17031010100 \n",
      " 17031843900\n"
     ]
    }
   ],
   "source": [
    "print(df.locationname.min() ,'\\n', df.locationname.max())"
   ]
  },
  {
   "cell_type": "markdown",
   "metadata": {},
   "source": [
    "**datasource**"
   ]
  },
  {
   "cell_type": "code",
   "execution_count": 14,
   "metadata": {},
   "outputs": [
    {
     "data": {
      "text/plain": [
       "BRFSS    36792\n",
       "Name: datasource, dtype: int64"
      ]
     },
     "execution_count": 14,
     "metadata": {},
     "output_type": "execute_result"
    }
   ],
   "source": [
    "df.datasource.value_counts()"
   ]
  },
  {
   "cell_type": "markdown",
   "metadata": {},
   "source": [
    "No change in data source - this whole column can be deleted"
   ]
  },
  {
   "cell_type": "code",
   "execution_count": 15,
   "metadata": {},
   "outputs": [],
   "source": [
    "df.drop('datasource',axis=1, inplace=True)"
   ]
  },
  {
   "cell_type": "markdown",
   "metadata": {},
   "source": [
    "**category**"
   ]
  },
  {
   "cell_type": "code",
   "execution_count": 16,
   "metadata": {},
   "outputs": [
    {
     "data": {
      "text/plain": [
       "array(['Health Outcomes', 'Unhealthy Behaviors', 'Prevention'],\n",
       "      dtype=object)"
      ]
     },
     "execution_count": 16,
     "metadata": {},
     "output_type": "execute_result"
    }
   ],
   "source": [
    "df.category.unique()"
   ]
  },
  {
   "cell_type": "code",
   "execution_count": 17,
   "metadata": {},
   "outputs": [
    {
     "data": {
      "text/plain": [
       "Health Outcomes        0.464286\n",
       "Prevention             0.357143\n",
       "Unhealthy Behaviors    0.178571\n",
       "Name: category, dtype: float64"
      ]
     },
     "metadata": {},
     "output_type": "display_data"
    },
    {
     "data": {
      "text/plain": [
       "Health Outcomes        17082\n",
       "Prevention             13140\n",
       "Unhealthy Behaviors     6570\n",
       "Name: category, dtype: int64"
      ]
     },
     "execution_count": 17,
     "metadata": {},
     "output_type": "execute_result"
    }
   ],
   "source": [
    "display(df.category.value_counts(normalize=True))\n",
    "df.category.value_counts()"
   ]
  },
  {
   "cell_type": "markdown",
   "metadata": {},
   "source": [
    "**measure**"
   ]
  },
  {
   "cell_type": "code",
   "execution_count": 18,
   "metadata": {},
   "outputs": [
    {
     "data": {
      "text/plain": [
       "array(['Stroke among adults aged >=18 years',\n",
       "       'Obesity among adults aged >=18 years',\n",
       "       'Arthritis among adults aged >=18 years',\n",
       "       'All teeth lost among adults aged >=65 years',\n",
       "       'Binge drinking among adults aged >=18 years',\n",
       "       'Diagnosed diabetes among adults aged >=18 years',\n",
       "       'Cervical cancer screening among adult women aged 21-65 years',\n",
       "       'No leisure-time physical activity among adults aged >=18 years',\n",
       "       'Visits to dentist or dental clinic among adults aged >=18 years',\n",
       "       'Physical health not good for >=14 days among adults aged >=18 years',\n",
       "       'Coronary heart disease among adults aged >=18 years',\n",
       "       'Taking medicine for high blood pressure control among adults aged >=18 years with high blood pressure',\n",
       "       'Current asthma among adults aged >=18 years',\n",
       "       'Older adult men aged >=65 years who are up to date on a core set of clinical preventive services: Flu shot past year, PPV shot ever, Colorectal cancer screening',\n",
       "       'Mental health not good for >=14 days among adults aged >=18 years',\n",
       "       'Mammography use among women aged 50-74 years',\n",
       "       'Chronic obstructive pulmonary disease among adults aged >=18 years',\n",
       "       'Older adult women aged >=65 years who are up to date on a core set of clinical preventive services: Flu shot past year, PPV shot ever, Colorectal cancer screening, and Mammogram past 2 years',\n",
       "       'High blood pressure among adults aged >=18 years',\n",
       "       'Cholesterol screening among adults aged >=18 years',\n",
       "       'High cholesterol among adults aged >=18 years who have been screened in the past 5 years',\n",
       "       'Cancer (excluding skin cancer) among adults aged >=18 years',\n",
       "       'Chronic kidney disease among adults aged >=18 years',\n",
       "       'Current smoking among adults aged >=18 years',\n",
       "       'Visits to doctor for routine checkup within the past year among adults aged >=18 years',\n",
       "       'Current lack of health insurance among adults aged 18-64 years',\n",
       "       'Fecal occult blood test, sigmoidoscopy, or colonoscopy among adults aged 50-75 years',\n",
       "       'Sleeping less than 7 hours among adults aged >=18 years'],\n",
       "      dtype=object)"
      ]
     },
     "metadata": {},
     "output_type": "display_data"
    },
    {
     "name": "stdout",
     "output_type": "stream",
     "text": [
      "28  different measures\n"
     ]
    }
   ],
   "source": [
    "\n",
    "display(df.measure.unique())\n",
    "print(df.measure.nunique(),' different measures')"
   ]
  },
  {
   "cell_type": "code",
   "execution_count": 19,
   "metadata": {},
   "outputs": [
    {
     "data": {
      "text/plain": [
       "array([1314], dtype=int64)"
      ]
     },
     "execution_count": 19,
     "metadata": {},
     "output_type": "execute_result"
    }
   ],
   "source": [
    "df.measure.value_counts().unique()"
   ]
  },
  {
   "cell_type": "code",
   "execution_count": 20,
   "metadata": {},
   "outputs": [
    {
     "name": "stdout",
     "output_type": "stream",
     "text": [
      "Health Outcomes \n",
      " ['Stroke among adults aged >=18 years'\n",
      " 'Arthritis among adults aged >=18 years'\n",
      " 'All teeth lost among adults aged >=65 years'\n",
      " 'Diagnosed diabetes among adults aged >=18 years'\n",
      " 'Physical health not good for >=14 days among adults aged >=18 years'\n",
      " 'Coronary heart disease among adults aged >=18 years'\n",
      " 'Current asthma among adults aged >=18 years'\n",
      " 'Mental health not good for >=14 days among adults aged >=18 years'\n",
      " 'Chronic obstructive pulmonary disease among adults aged >=18 years'\n",
      " 'High blood pressure among adults aged >=18 years'\n",
      " 'High cholesterol among adults aged >=18 years who have been screened in the past 5 years'\n",
      " 'Cancer (excluding skin cancer) among adults aged >=18 years'\n",
      " 'Chronic kidney disease among adults aged >=18 years'] \n",
      "\n",
      "Unhealthy Behaviors \n",
      " ['Obesity among adults aged >=18 years'\n",
      " 'Binge drinking among adults aged >=18 years'\n",
      " 'No leisure-time physical activity among adults aged >=18 years'\n",
      " 'Current smoking among adults aged >=18 years'\n",
      " 'Sleeping less than 7 hours among adults aged >=18 years'] \n",
      "\n",
      "Prevention \n",
      " ['Cervical cancer screening among adult women aged 21-65 years'\n",
      " 'Visits to dentist or dental clinic among adults aged >=18 years'\n",
      " 'Taking medicine for high blood pressure control among adults aged >=18 years with high blood pressure'\n",
      " 'Older adult men aged >=65 years who are up to date on a core set of clinical preventive services: Flu shot past year, PPV shot ever, Colorectal cancer screening'\n",
      " 'Mammography use among women aged 50-74 years'\n",
      " 'Older adult women aged >=65 years who are up to date on a core set of clinical preventive services: Flu shot past year, PPV shot ever, Colorectal cancer screening, and Mammogram past 2 years'\n",
      " 'Cholesterol screening among adults aged >=18 years'\n",
      " 'Visits to doctor for routine checkup within the past year among adults aged >=18 years'\n",
      " 'Current lack of health insurance among adults aged 18-64 years'\n",
      " 'Fecal occult blood test, sigmoidoscopy, or colonoscopy among adults aged 50-75 years'] \n",
      "\n"
     ]
    }
   ],
   "source": [
    "for cat in df.category.unique():\n",
    "    print(cat, '\\n',df[df.category==cat].measure.unique(),'\\n')"
   ]
  },
  {
   "cell_type": "markdown",
   "metadata": {},
   "source": [
    "#### We will need to decide which measure(s) we'd like to keep in the dataset"
   ]
  },
  {
   "cell_type": "markdown",
   "metadata": {},
   "source": [
    "**data_value_unit**"
   ]
  },
  {
   "cell_type": "code",
   "execution_count": 21,
   "metadata": {},
   "outputs": [
    {
     "data": {
      "text/plain": [
       "%    36792\n",
       "Name: data_value_unit, dtype: int64"
      ]
     },
     "execution_count": 21,
     "metadata": {},
     "output_type": "execute_result"
    }
   ],
   "source": [
    "df.data_value_unit.value_counts()"
   ]
  },
  {
   "cell_type": "markdown",
   "metadata": {},
   "source": [
    "All data is a % value. This column can be dropped"
   ]
  },
  {
   "cell_type": "code",
   "execution_count": 22,
   "metadata": {},
   "outputs": [],
   "source": [
    "df.drop('data_value_unit', axis=1,inplace=True)"
   ]
  },
  {
   "cell_type": "markdown",
   "metadata": {},
   "source": [
    "**data_value_type**"
   ]
  },
  {
   "cell_type": "code",
   "execution_count": 23,
   "metadata": {},
   "outputs": [
    {
     "data": {
      "text/plain": [
       "Crude prevalence    36792\n",
       "Name: data_value_type, dtype: int64"
      ]
     },
     "execution_count": 23,
     "metadata": {},
     "output_type": "execute_result"
    }
   ],
   "source": [
    "df.data_value_type.value_counts()"
   ]
  },
  {
   "cell_type": "markdown",
   "metadata": {},
   "source": [
    "All values are in crude prevelance. This column can be dropped"
   ]
  },
  {
   "cell_type": "code",
   "execution_count": 24,
   "metadata": {},
   "outputs": [],
   "source": [
    "df.drop('data_value_type', axis=1,inplace=True)"
   ]
  },
  {
   "cell_type": "markdown",
   "metadata": {},
   "source": [
    "**data_value**"
   ]
  },
  {
   "cell_type": "code",
   "execution_count": 25,
   "metadata": {},
   "outputs": [
    {
     "data": {
      "text/plain": [
       "count    36792.00000\n",
       "mean        31.64710\n",
       "std         26.72802\n",
       "min          0.60000\n",
       "25%          9.50000\n",
       "50%         22.80000\n",
       "75%         47.00000\n",
       "max         91.90000\n",
       "Name: data_value, dtype: float64"
      ]
     },
     "execution_count": 25,
     "metadata": {},
     "output_type": "execute_result"
    }
   ],
   "source": [
    "df.data_value.describe()"
   ]
  },
  {
   "cell_type": "code",
   "execution_count": 26,
   "metadata": {},
   "outputs": [
    {
     "data": {
      "text/plain": [
       "<matplotlib.axes._subplots.AxesSubplot at 0xf04ce805c0>"
      ]
     },
     "execution_count": 26,
     "metadata": {},
     "output_type": "execute_result"
    },
    {
     "data": {
      "image/png": "[encoded data removed]",
      "text/plain": [
       "<Figure size 432x288 with 1 Axes>"
      ]
     },
     "metadata": {
      "needs_background": "light"
     },
     "output_type": "display_data"
    }
   ],
   "source": [
    "sns.stripplot(data=df, x='data_value')"
   ]
  },
  {
   "cell_type": "code",
   "execution_count": 27,
   "metadata": {},
   "outputs": [
    {
     "data": {
      "text/plain": [
       "<matplotlib.axes._subplots.AxesSubplot at 0xf04d05f828>"
      ]
     },
     "execution_count": 27,
     "metadata": {},
     "output_type": "execute_result"
    },
    {
     "data": {
      "image/png": "[encoded data removed]",
      "text/plain": [
       "<Figure size 432x288 with 1 Axes>"
      ]
     },
     "metadata": {
      "needs_background": "light"
     },
     "output_type": "display_data"
    }
   ],
   "source": [
    "df[['data_value']].plot(kind='box', vert=False)"
   ]
  },
  {
   "cell_type": "code",
   "execution_count": 28,
   "metadata": {},
   "outputs": [],
   "source": [
    "R=df.data_value.max() - df.data_value.min()"
   ]
  },
  {
   "cell_type": "code",
   "execution_count": 29,
   "metadata": {},
   "outputs": [],
   "source": [
    "bins=int(R*(len(df)**(1/3)) / (3.49*df.data_value.std()))"
   ]
  },
  {
   "cell_type": "code",
   "execution_count": 30,
   "metadata": {},
   "outputs": [
    {
     "data": {
      "text/plain": [
       "<matplotlib.axes._subplots.AxesSubplot at 0xf04e22da58>"
      ]
     },
     "execution_count": 30,
     "metadata": {},
     "output_type": "execute_result"
    },
    {
     "data": {
      "image/png": "[encoded data removed]",
      "text/plain": [
       "<Figure size 432x288 with 1 Axes>"
      ]
     },
     "metadata": {
      "needs_background": "light"
     },
     "output_type": "display_data"
    }
   ],
   "source": [
    "df.data_value.plot(kind='hist', bins=bins)"
   ]
  },
  {
   "cell_type": "markdown",
   "metadata": {},
   "source": [
    "- The overall data seems to be skewed to the right\n",
    "- There is a bimodal distribution\n",
    "- Frequency starts to increase at around 50\n",
    "- I wonder how this looks to different may change with different categories"
   ]
  },
  {
   "cell_type": "code",
   "execution_count": 31,
   "metadata": {},
   "outputs": [
    {
     "data": {
      "image/png": "[encoded data removed]",
      "text/plain": [
       "<Figure size 432x288 with 1 Axes>"
      ]
     },
     "metadata": {
      "needs_background": "light"
     },
     "output_type": "display_data"
    },
    {
     "data": {
      "image/png": "[encoded data removed]",
      "text/plain": [
       "<Figure size 432x288 with 1 Axes>"
      ]
     },
     "metadata": {
      "needs_background": "light"
     },
     "output_type": "display_data"
    },
    {
     "data": {
      "image/png": "[encoded data removed]",
      "text/plain": [
       "<Figure size 432x288 with 1 Axes>"
      ]
     },
     "metadata": {
      "needs_background": "light"
     },
     "output_type": "display_data"
    }
   ],
   "source": [
    "for ctgy in df.category.unique():\n",
    "    tmp = df.copy()\n",
    "    tmp = tmp[tmp.category==ctgy]\n",
    "    R = tmp.data_value.max() - tmp.data_value.min()\n",
    "    bins=int(R*(len(tmp)**(1/3)) / (3.49*tmp.data_value.std()))\n",
    "    tmp.data_value.plot(kind='hist', bins=bins,title=ctgy)\n",
    "    plt.show()"
   ]
  },
  {
   "cell_type": "code",
   "execution_count": 32,
   "metadata": {},
   "outputs": [
    {
     "data": {
      "image/png": "[encoded data removed]",
      "text/plain": [
       "<Figure size 432x288 with 1 Axes>"
      ]
     },
     "metadata": {
      "needs_background": "light"
     },
     "output_type": "display_data"
    }
   ],
   "source": [
    "_=sns.stripplot(data=df, y='category',x='data_value')"
   ]
  },
  {
   "cell_type": "code",
   "execution_count": 33,
   "metadata": {},
   "outputs": [
    {
     "data": {
      "text/plain": [
       "<matplotlib.axes._subplots.AxesSubplot at 0xf04f91cac8>"
      ]
     },
     "execution_count": 33,
     "metadata": {},
     "output_type": "execute_result"
    },
    {
     "data": {
      "image/png": "[encoded data removed]",
      "text/plain": [
       "<Figure size 432x288 with 1 Axes>"
      ]
     },
     "metadata": {
      "needs_background": "light"
     },
     "output_type": "display_data"
    }
   ],
   "source": [
    "df[['data_value','category']].pivot(values='data_value',columns='category').plot(kind='box', showfliers=True, vert=False)"
   ]
  },
  {
   "cell_type": "markdown",
   "metadata": {},
   "source": [
    "**totalpopulation**"
   ]
  },
  {
   "cell_type": "code",
   "execution_count": 34,
   "metadata": {},
   "outputs": [
    {
     "data": {
      "text/html": [
       "<div>\n",
       "<style scoped>\n",
       "    .dataframe tbody tr th:only-of-type {\n",
       "        vertical-align: middle;\n",
       "    }\n",
       "\n",
       "    .dataframe tbody tr th {\n",
       "        vertical-align: top;\n",
       "    }\n",
       "\n",
       "    .dataframe thead th {\n",
       "        text-align: right;\n",
       "    }\n",
       "</style>\n",
       "<table border=\"1\" class=\"dataframe\">\n",
       "  <thead>\n",
       "    <tr style=\"text-align: right;\">\n",
       "      <th></th>\n",
       "      <th>year</th>\n",
       "      <th>locationname</th>\n",
       "      <th>category</th>\n",
       "      <th>measure</th>\n",
       "      <th>data_value</th>\n",
       "      <th>totalpopulation</th>\n",
       "      <th>measureid</th>\n",
       "      <th>short_question_text</th>\n",
       "    </tr>\n",
       "  </thead>\n",
       "  <tbody>\n",
       "    <tr>\n",
       "      <th>0</th>\n",
       "      <td>2018</td>\n",
       "      <td>17031020500</td>\n",
       "      <td>Health Outcomes</td>\n",
       "      <td>Stroke among adults aged &gt;=18 years</td>\n",
       "      <td>3.8</td>\n",
       "      <td>6214</td>\n",
       "      <td>STROKE</td>\n",
       "      <td>Stroke</td>\n",
       "    </tr>\n",
       "    <tr>\n",
       "      <th>1</th>\n",
       "      <td>2018</td>\n",
       "      <td>17031020901</td>\n",
       "      <td>Health Outcomes</td>\n",
       "      <td>Stroke among adults aged &gt;=18 years</td>\n",
       "      <td>3.1</td>\n",
       "      <td>5221</td>\n",
       "      <td>STROKE</td>\n",
       "      <td>Stroke</td>\n",
       "    </tr>\n",
       "    <tr>\n",
       "      <th>2</th>\n",
       "      <td>2018</td>\n",
       "      <td>17031030300</td>\n",
       "      <td>Unhealthy Behaviors</td>\n",
       "      <td>Obesity among adults aged &gt;=18 years</td>\n",
       "      <td>30.5</td>\n",
       "      <td>3322</td>\n",
       "      <td>OBESITY</td>\n",
       "      <td>Obesity</td>\n",
       "    </tr>\n",
       "    <tr>\n",
       "      <th>3</th>\n",
       "      <td>2018</td>\n",
       "      <td>17031030702</td>\n",
       "      <td>Health Outcomes</td>\n",
       "      <td>Stroke among adults aged &gt;=18 years</td>\n",
       "      <td>2.4</td>\n",
       "      <td>1630</td>\n",
       "      <td>STROKE</td>\n",
       "      <td>Stroke</td>\n",
       "    </tr>\n",
       "    <tr>\n",
       "      <th>4</th>\n",
       "      <td>2018</td>\n",
       "      <td>17031040402</td>\n",
       "      <td>Unhealthy Behaviors</td>\n",
       "      <td>Obesity among adults aged &gt;=18 years</td>\n",
       "      <td>23.8</td>\n",
       "      <td>4468</td>\n",
       "      <td>OBESITY</td>\n",
       "      <td>Obesity</td>\n",
       "    </tr>\n",
       "  </tbody>\n",
       "</table>\n",
       "</div>"
      ],
      "text/plain": [
       "   year  locationname             category  \\\n",
       "0  2018   17031020500      Health Outcomes   \n",
       "1  2018   17031020901      Health Outcomes   \n",
       "2  2018   17031030300  Unhealthy Behaviors   \n",
       "3  2018   17031030702      Health Outcomes   \n",
       "4  2018   17031040402  Unhealthy Behaviors   \n",
       "\n",
       "                                measure  data_value  totalpopulation  \\\n",
       "0   Stroke among adults aged >=18 years         3.8             6214   \n",
       "1   Stroke among adults aged >=18 years         3.1             5221   \n",
       "2  Obesity among adults aged >=18 years        30.5             3322   \n",
       "3   Stroke among adults aged >=18 years         2.4             1630   \n",
       "4  Obesity among adults aged >=18 years        23.8             4468   \n",
       "\n",
       "  measureid short_question_text  \n",
       "0    STROKE              Stroke  \n",
       "1    STROKE              Stroke  \n",
       "2   OBESITY             Obesity  \n",
       "3    STROKE              Stroke  \n",
       "4   OBESITY             Obesity  "
      ]
     },
     "execution_count": 34,
     "metadata": {},
     "output_type": "execute_result"
    }
   ],
   "source": [
    "df.head()"
   ]
  },
  {
   "cell_type": "code",
   "execution_count": 35,
   "metadata": {},
   "outputs": [
    {
     "data": {
      "text/plain": [
       "count    36792.000000\n",
       "mean      3953.329528\n",
       "std       1788.143987\n",
       "min        237.000000\n",
       "25%       2545.000000\n",
       "50%       3848.000000\n",
       "75%       5150.000000\n",
       "max      16735.000000\n",
       "Name: totalpopulation, dtype: float64"
      ]
     },
     "execution_count": 35,
     "metadata": {},
     "output_type": "execute_result"
    }
   ],
   "source": [
    "df.totalpopulation.describe()"
   ]
  },
  {
   "cell_type": "code",
   "execution_count": 36,
   "metadata": {},
   "outputs": [
    {
     "data": {
      "text/plain": [
       "<matplotlib.axes._subplots.AxesSubplot at 0xf050983278>"
      ]
     },
     "execution_count": 36,
     "metadata": {},
     "output_type": "execute_result"
    },
    {
     "data": {
      "image/png": "[encoded data removed]",
      "text/plain": [
       "<Figure size 432x288 with 1 Axes>"
      ]
     },
     "metadata": {
      "needs_background": "light"
     },
     "output_type": "display_data"
    }
   ],
   "source": [
    "df[['totalpopulation']].plot(kind='box', vert=False)"
   ]
  },
  {
   "cell_type": "code",
   "execution_count": 37,
   "metadata": {},
   "outputs": [
    {
     "data": {
      "text/plain": [
       "<matplotlib.axes._subplots.AxesSubplot at 0xf04f89ca20>"
      ]
     },
     "execution_count": 37,
     "metadata": {},
     "output_type": "execute_result"
    },
    {
     "data": {
      "image/png": "[encoded data removed]",
      "text/plain": [
       "<Figure size 432x288 with 1 Axes>"
      ]
     },
     "metadata": {
      "needs_background": "light"
     },
     "output_type": "display_data"
    }
   ],
   "source": [
    "sns.stripplot(data=df, x='totalpopulation')"
   ]
  },
  {
   "cell_type": "markdown",
   "metadata": {},
   "source": [
    "It looks like there is a large range in the total population variable, but there does not appear to be any outliers"
   ]
  },
  {
   "cell_type": "markdown",
   "metadata": {},
   "source": [
    "**measureid**"
   ]
  },
  {
   "cell_type": "code",
   "execution_count": 38,
   "metadata": {},
   "outputs": [
    {
     "data": {
      "text/plain": [
       "array(['STROKE', 'OBESITY', 'ARTHRITIS', 'TEETHLOST', 'BINGE', 'DIABETES',\n",
       "       'CERVICAL', 'LPA', 'DENTAL', 'PHLTH', 'CHD', 'BPMED', 'CASTHMA',\n",
       "       'COREM', 'MHLTH', 'MAMMOUSE', 'COPD', 'COREW', 'BPHIGH',\n",
       "       'CHOLSCREEN', 'HIGHCHOL', 'CANCER', 'KIDNEY', 'CSMOKING',\n",
       "       'CHECKUP', 'ACCESS2', 'COLON_SCREEN', 'SLEEP'], dtype=object)"
      ]
     },
     "execution_count": 38,
     "metadata": {},
     "output_type": "execute_result"
    }
   ],
   "source": [
    "df.measureid.unique()"
   ]
  },
  {
   "cell_type": "code",
   "execution_count": 39,
   "metadata": {},
   "outputs": [
    {
     "data": {
      "text/plain": [
       "DIABETES        1314\n",
       "CERVICAL        1314\n",
       "COREM           1314\n",
       "BPHIGH          1314\n",
       "COLON_SCREEN    1314\n",
       "ARTHRITIS       1314\n",
       "CSMOKING        1314\n",
       "ACCESS2         1314\n",
       "CHD             1314\n",
       "CASTHMA         1314\n",
       "STROKE          1314\n",
       "CANCER          1314\n",
       "SLEEP           1314\n",
       "MHLTH           1314\n",
       "COREW           1314\n",
       "PHLTH           1314\n",
       "DENTAL          1314\n",
       "KIDNEY          1314\n",
       "CHECKUP         1314\n",
       "COPD            1314\n",
       "BPMED           1314\n",
       "BINGE           1314\n",
       "LPA             1314\n",
       "CHOLSCREEN      1314\n",
       "OBESITY         1314\n",
       "TEETHLOST       1314\n",
       "MAMMOUSE        1314\n",
       "HIGHCHOL        1314\n",
       "Name: measureid, dtype: int64"
      ]
     },
     "execution_count": 39,
     "metadata": {},
     "output_type": "execute_result"
    }
   ],
   "source": [
    "df.measureid.value_counts()"
   ]
  },
  {
   "cell_type": "markdown",
   "metadata": {},
   "source": [
    "**short_question_text**"
   ]
  },
  {
   "cell_type": "code",
   "execution_count": 40,
   "metadata": {},
   "outputs": [
    {
     "data": {
      "text/plain": [
       "array(['Stroke', 'Obesity', 'Arthritis', 'Teeth Loss', 'Binge Drinking',\n",
       "       'Diabetes', 'Cervical Cancer Screening', 'Physical Inactivity',\n",
       "       'Dental Visit', 'Physical Health', 'Coronary Heart Disease',\n",
       "       'Taking BP Medication', 'Current Asthma',\n",
       "       'Core preventive services for older men', 'Mental Health',\n",
       "       'Mammography', 'COPD', 'Core preventive services for older women',\n",
       "       'High Blood Pressure', 'Cholesterol Screening', 'High Cholesterol',\n",
       "       'Cancer (except skin)', 'Chronic Kidney Disease',\n",
       "       'Current Smoking', 'Annual Checkup', 'Health Insurance',\n",
       "       'Colorectal Cancer Screening', 'Sleep <7 hours'], dtype=object)"
      ]
     },
     "execution_count": 40,
     "metadata": {},
     "output_type": "execute_result"
    }
   ],
   "source": [
    "df.short_question_text.unique()"
   ]
  },
  {
   "cell_type": "code",
   "execution_count": 41,
   "metadata": {},
   "outputs": [
    {
     "data": {
      "text/plain": [
       "Sleep <7 hours                              1314\n",
       "Dental Visit                                1314\n",
       "Arthritis                                   1314\n",
       "Colorectal Cancer Screening                 1314\n",
       "Physical Health                             1314\n",
       "Annual Checkup                              1314\n",
       "Taking BP Medication                        1314\n",
       "Current Smoking                             1314\n",
       "High Cholesterol                            1314\n",
       "Physical Inactivity                         1314\n",
       "Current Asthma                              1314\n",
       "Diabetes                                    1314\n",
       "High Blood Pressure                         1314\n",
       "Mental Health                               1314\n",
       "Chronic Kidney Disease                      1314\n",
       "Teeth Loss                                  1314\n",
       "Core preventive services for older men      1314\n",
       "Cervical Cancer Screening                   1314\n",
       "Obesity                                     1314\n",
       "COPD                                        1314\n",
       "Cholesterol Screening                       1314\n",
       "Binge Drinking                              1314\n",
       "Stroke                                      1314\n",
       "Core preventive services for older women    1314\n",
       "Cancer (except skin)                        1314\n",
       "Coronary Heart Disease                      1314\n",
       "Mammography                                 1314\n",
       "Health Insurance                            1314\n",
       "Name: short_question_text, dtype: int64"
      ]
     },
     "execution_count": 41,
     "metadata": {},
     "output_type": "execute_result"
    }
   ],
   "source": [
    "df.short_question_text.value_counts()"
   ]
  },
  {
   "cell_type": "markdown",
   "metadata": {},
   "source": [
    "Short question text is similar to measureid, we can remove one"
   ]
  },
  {
   "cell_type": "code",
   "execution_count": 42,
   "metadata": {
    "scrolled": true
   },
   "outputs": [],
   "source": [
    "df.drop('measureid',axis=1, inplace=True)"
   ]
  },
  {
   "cell_type": "code",
   "execution_count": 43,
   "metadata": {
    "scrolled": true
   },
   "outputs": [
    {
     "data": {
      "text/html": [
       "<div>\n",
       "<style scoped>\n",
       "    .dataframe tbody tr th:only-of-type {\n",
       "        vertical-align: middle;\n",
       "    }\n",
       "\n",
       "    .dataframe tbody tr th {\n",
       "        vertical-align: top;\n",
       "    }\n",
       "\n",
       "    .dataframe thead th {\n",
       "        text-align: right;\n",
       "    }\n",
       "</style>\n",
       "<table border=\"1\" class=\"dataframe\">\n",
       "  <thead>\n",
       "    <tr style=\"text-align: right;\">\n",
       "      <th></th>\n",
       "      <th>year</th>\n",
       "      <th>locationname</th>\n",
       "      <th>category</th>\n",
       "      <th>measure</th>\n",
       "      <th>data_value</th>\n",
       "      <th>totalpopulation</th>\n",
       "      <th>short_question_text</th>\n",
       "    </tr>\n",
       "  </thead>\n",
       "  <tbody>\n",
       "    <tr>\n",
       "      <th>0</th>\n",
       "      <td>2018</td>\n",
       "      <td>17031020500</td>\n",
       "      <td>Health Outcomes</td>\n",
       "      <td>Stroke among adults aged &gt;=18 years</td>\n",
       "      <td>3.8</td>\n",
       "      <td>6214</td>\n",
       "      <td>Stroke</td>\n",
       "    </tr>\n",
       "    <tr>\n",
       "      <th>1</th>\n",
       "      <td>2018</td>\n",
       "      <td>17031020901</td>\n",
       "      <td>Health Outcomes</td>\n",
       "      <td>Stroke among adults aged &gt;=18 years</td>\n",
       "      <td>3.1</td>\n",
       "      <td>5221</td>\n",
       "      <td>Stroke</td>\n",
       "    </tr>\n",
       "    <tr>\n",
       "      <th>2</th>\n",
       "      <td>2018</td>\n",
       "      <td>17031030300</td>\n",
       "      <td>Unhealthy Behaviors</td>\n",
       "      <td>Obesity among adults aged &gt;=18 years</td>\n",
       "      <td>30.5</td>\n",
       "      <td>3322</td>\n",
       "      <td>Obesity</td>\n",
       "    </tr>\n",
       "    <tr>\n",
       "      <th>3</th>\n",
       "      <td>2018</td>\n",
       "      <td>17031030702</td>\n",
       "      <td>Health Outcomes</td>\n",
       "      <td>Stroke among adults aged &gt;=18 years</td>\n",
       "      <td>2.4</td>\n",
       "      <td>1630</td>\n",
       "      <td>Stroke</td>\n",
       "    </tr>\n",
       "    <tr>\n",
       "      <th>4</th>\n",
       "      <td>2018</td>\n",
       "      <td>17031040402</td>\n",
       "      <td>Unhealthy Behaviors</td>\n",
       "      <td>Obesity among adults aged &gt;=18 years</td>\n",
       "      <td>23.8</td>\n",
       "      <td>4468</td>\n",
       "      <td>Obesity</td>\n",
       "    </tr>\n",
       "  </tbody>\n",
       "</table>\n",
       "</div>"
      ],
      "text/plain": [
       "   year  locationname             category  \\\n",
       "0  2018   17031020500      Health Outcomes   \n",
       "1  2018   17031020901      Health Outcomes   \n",
       "2  2018   17031030300  Unhealthy Behaviors   \n",
       "3  2018   17031030702      Health Outcomes   \n",
       "4  2018   17031040402  Unhealthy Behaviors   \n",
       "\n",
       "                                measure  data_value  totalpopulation  \\\n",
       "0   Stroke among adults aged >=18 years         3.8             6214   \n",
       "1   Stroke among adults aged >=18 years         3.1             5221   \n",
       "2  Obesity among adults aged >=18 years        30.5             3322   \n",
       "3   Stroke among adults aged >=18 years         2.4             1630   \n",
       "4  Obesity among adults aged >=18 years        23.8             4468   \n",
       "\n",
       "  short_question_text  \n",
       "0              Stroke  \n",
       "1              Stroke  \n",
       "2             Obesity  \n",
       "3              Stroke  \n",
       "4             Obesity  "
      ]
     },
     "execution_count": 43,
     "metadata": {},
     "output_type": "execute_result"
    }
   ],
   "source": [
    "df.head()"
   ]
  },
  {
   "cell_type": "code",
   "execution_count": 55,
   "metadata": {},
   "outputs": [
    {
     "data": {
      "text/plain": [
       "array([1], dtype=int64)"
      ]
     },
     "execution_count": 55,
     "metadata": {},
     "output_type": "execute_result"
    }
   ],
   "source": [
    "df.groupby(['locationname','year','measure']).count().category.unique()"
   ]
  },
  {
   "cell_type": "code",
   "execution_count": 65,
   "metadata": {},
   "outputs": [
    {
     "data": {
      "text/plain": [
       "array([28], dtype=int64)"
      ]
     },
     "execution_count": 65,
     "metadata": {},
     "output_type": "execute_result"
    }
   ],
   "source": [
    "df.locationname.value_counts().unique()"
   ]
  },
  {
   "cell_type": "code",
   "execution_count": 66,
   "metadata": {},
   "outputs": [
    {
     "data": {
      "text/plain": [
       "28"
      ]
     },
     "execution_count": 66,
     "metadata": {},
     "output_type": "execute_result"
    }
   ],
   "source": [
    "df.measure.nunique()"
   ]
  },
  {
   "cell_type": "markdown",
   "metadata": {},
   "source": [
    "There is one measure per year and census tract, and each census tract is listed once in the dataset"
   ]
  },
  {
   "cell_type": "markdown",
   "metadata": {},
   "source": [
    "Once we have decided which measures to include, we will need to pivot the data"
   ]
  },
  {
   "cell_type": "code",
   "execution_count": 67,
   "metadata": {},
   "outputs": [
    {
     "data": {
      "text/html": [
       "<div>\n",
       "<style scoped>\n",
       "    .dataframe tbody tr th:only-of-type {\n",
       "        vertical-align: middle;\n",
       "    }\n",
       "\n",
       "    .dataframe tbody tr th {\n",
       "        vertical-align: top;\n",
       "    }\n",
       "\n",
       "    .dataframe thead th {\n",
       "        text-align: right;\n",
       "    }\n",
       "</style>\n",
       "<table border=\"1\" class=\"dataframe\">\n",
       "  <thead>\n",
       "    <tr style=\"text-align: right;\">\n",
       "      <th>measure</th>\n",
       "      <th>All teeth lost among adults aged &gt;=65 years</th>\n",
       "      <th>Arthritis among adults aged &gt;=18 years</th>\n",
       "      <th>Binge drinking among adults aged &gt;=18 years</th>\n",
       "      <th>Cancer (excluding skin cancer) among adults aged &gt;=18 years</th>\n",
       "      <th>Cervical cancer screening among adult women aged 21-65 years</th>\n",
       "      <th>Cholesterol screening among adults aged &gt;=18 years</th>\n",
       "      <th>Chronic kidney disease among adults aged &gt;=18 years</th>\n",
       "      <th>Chronic obstructive pulmonary disease among adults aged &gt;=18 years</th>\n",
       "      <th>Coronary heart disease among adults aged &gt;=18 years</th>\n",
       "      <th>Current asthma among adults aged &gt;=18 years</th>\n",
       "      <th>...</th>\n",
       "      <th>No leisure-time physical activity among adults aged &gt;=18 years</th>\n",
       "      <th>Obesity among adults aged &gt;=18 years</th>\n",
       "      <th>Older adult men aged &gt;=65 years who are up to date on a core set of clinical preventive services: Flu shot past year, PPV shot ever, Colorectal cancer screening</th>\n",
       "      <th>Older adult women aged &gt;=65 years who are up to date on a core set of clinical preventive services: Flu shot past year, PPV shot ever, Colorectal cancer screening, and Mammogram past 2 years</th>\n",
       "      <th>Physical health not good for &gt;=14 days among adults aged &gt;=18 years</th>\n",
       "      <th>Sleeping less than 7 hours among adults aged &gt;=18 years</th>\n",
       "      <th>Stroke among adults aged &gt;=18 years</th>\n",
       "      <th>Taking medicine for high blood pressure control among adults aged &gt;=18 years with high blood pressure</th>\n",
       "      <th>Visits to dentist or dental clinic among adults aged &gt;=18 years</th>\n",
       "      <th>Visits to doctor for routine checkup within the past year among adults aged &gt;=18 years</th>\n",
       "    </tr>\n",
       "    <tr>\n",
       "      <th>locationname</th>\n",
       "      <th></th>\n",
       "      <th></th>\n",
       "      <th></th>\n",
       "      <th></th>\n",
       "      <th></th>\n",
       "      <th></th>\n",
       "      <th></th>\n",
       "      <th></th>\n",
       "      <th></th>\n",
       "      <th></th>\n",
       "      <th></th>\n",
       "      <th></th>\n",
       "      <th></th>\n",
       "      <th></th>\n",
       "      <th></th>\n",
       "      <th></th>\n",
       "      <th></th>\n",
       "      <th></th>\n",
       "      <th></th>\n",
       "      <th></th>\n",
       "      <th></th>\n",
       "    </tr>\n",
       "  </thead>\n",
       "  <tbody>\n",
       "    <tr>\n",
       "      <th>17031010100</th>\n",
       "      <td>12.5</td>\n",
       "      <td>20.2</td>\n",
       "      <td>20.4</td>\n",
       "      <td>4.7</td>\n",
       "      <td>82.9</td>\n",
       "      <td>82.2</td>\n",
       "      <td>2.8</td>\n",
       "      <td>6.0</td>\n",
       "      <td>4.8</td>\n",
       "      <td>10.8</td>\n",
       "      <td>...</td>\n",
       "      <td>24.4</td>\n",
       "      <td>34.9</td>\n",
       "      <td>26.8</td>\n",
       "      <td>25.4</td>\n",
       "      <td>11.9</td>\n",
       "      <td>39.8</td>\n",
       "      <td>3.2</td>\n",
       "      <td>70.3</td>\n",
       "      <td>60.4</td>\n",
       "      <td>76.0</td>\n",
       "    </tr>\n",
       "    <tr>\n",
       "      <th>17031010201</th>\n",
       "      <td>16.6</td>\n",
       "      <td>19.7</td>\n",
       "      <td>20.6</td>\n",
       "      <td>4.2</td>\n",
       "      <td>79.9</td>\n",
       "      <td>79.6</td>\n",
       "      <td>3.0</td>\n",
       "      <td>6.9</td>\n",
       "      <td>5.2</td>\n",
       "      <td>11.0</td>\n",
       "      <td>...</td>\n",
       "      <td>29.6</td>\n",
       "      <td>36.4</td>\n",
       "      <td>24.2</td>\n",
       "      <td>22.9</td>\n",
       "      <td>14.0</td>\n",
       "      <td>41.2</td>\n",
       "      <td>3.3</td>\n",
       "      <td>67.5</td>\n",
       "      <td>52.7</td>\n",
       "      <td>73.4</td>\n",
       "    </tr>\n",
       "    <tr>\n",
       "      <th>17031010202</th>\n",
       "      <td>15.6</td>\n",
       "      <td>22.6</td>\n",
       "      <td>20.4</td>\n",
       "      <td>5.6</td>\n",
       "      <td>81.5</td>\n",
       "      <td>82.5</td>\n",
       "      <td>3.3</td>\n",
       "      <td>7.4</td>\n",
       "      <td>6.2</td>\n",
       "      <td>10.4</td>\n",
       "      <td>...</td>\n",
       "      <td>27.9</td>\n",
       "      <td>34.3</td>\n",
       "      <td>27.3</td>\n",
       "      <td>24.1</td>\n",
       "      <td>13.6</td>\n",
       "      <td>39.1</td>\n",
       "      <td>3.8</td>\n",
       "      <td>72.4</td>\n",
       "      <td>57.3</td>\n",
       "      <td>75.0</td>\n",
       "    </tr>\n",
       "    <tr>\n",
       "      <th>17031010300</th>\n",
       "      <td>13.1</td>\n",
       "      <td>22.6</td>\n",
       "      <td>20.8</td>\n",
       "      <td>6.3</td>\n",
       "      <td>82.4</td>\n",
       "      <td>83.0</td>\n",
       "      <td>3.1</td>\n",
       "      <td>6.7</td>\n",
       "      <td>6.1</td>\n",
       "      <td>9.7</td>\n",
       "      <td>...</td>\n",
       "      <td>24.8</td>\n",
       "      <td>31.1</td>\n",
       "      <td>29.9</td>\n",
       "      <td>24.8</td>\n",
       "      <td>12.0</td>\n",
       "      <td>36.6</td>\n",
       "      <td>3.5</td>\n",
       "      <td>73.3</td>\n",
       "      <td>62.8</td>\n",
       "      <td>75.4</td>\n",
       "    </tr>\n",
       "    <tr>\n",
       "      <th>17031010400</th>\n",
       "      <td>9.1</td>\n",
       "      <td>13.0</td>\n",
       "      <td>25.2</td>\n",
       "      <td>3.4</td>\n",
       "      <td>76.9</td>\n",
       "      <td>74.7</td>\n",
       "      <td>1.7</td>\n",
       "      <td>4.0</td>\n",
       "      <td>3.0</td>\n",
       "      <td>9.9</td>\n",
       "      <td>...</td>\n",
       "      <td>17.8</td>\n",
       "      <td>24.4</td>\n",
       "      <td>30.7</td>\n",
       "      <td>27.4</td>\n",
       "      <td>8.2</td>\n",
       "      <td>34.7</td>\n",
       "      <td>1.7</td>\n",
       "      <td>62.2</td>\n",
       "      <td>68.7</td>\n",
       "      <td>71.8</td>\n",
       "    </tr>\n",
       "  </tbody>\n",
       "</table>\n",
       "<p>5 rows × 28 columns</p>\n",
       "</div>"
      ],
      "text/plain": [
       "measure       All teeth lost among adults aged >=65 years  \\\n",
       "locationname                                                \n",
       "17031010100                                          12.5   \n",
       "17031010201                                          16.6   \n",
       "17031010202                                          15.6   \n",
       "17031010300                                          13.1   \n",
       "17031010400                                           9.1   \n",
       "\n",
       "measure       Arthritis among adults aged >=18 years  \\\n",
       "locationname                                           \n",
       "17031010100                                     20.2   \n",
       "17031010201                                     19.7   \n",
       "17031010202                                     22.6   \n",
       "17031010300                                     22.6   \n",
       "17031010400                                     13.0   \n",
       "\n",
       "measure       Binge drinking among adults aged >=18 years  \\\n",
       "locationname                                                \n",
       "17031010100                                          20.4   \n",
       "17031010201                                          20.6   \n",
       "17031010202                                          20.4   \n",
       "17031010300                                          20.8   \n",
       "17031010400                                          25.2   \n",
       "\n",
       "measure       Cancer (excluding skin cancer) among adults aged >=18 years  \\\n",
       "locationname                                                                \n",
       "17031010100                                                 4.7             \n",
       "17031010201                                                 4.2             \n",
       "17031010202                                                 5.6             \n",
       "17031010300                                                 6.3             \n",
       "17031010400                                                 3.4             \n",
       "\n",
       "measure       Cervical cancer screening among adult women aged 21-65 years  \\\n",
       "locationname                                                                 \n",
       "17031010100                                                82.9              \n",
       "17031010201                                                79.9              \n",
       "17031010202                                                81.5              \n",
       "17031010300                                                82.4              \n",
       "17031010400                                                76.9              \n",
       "\n",
       "measure       Cholesterol screening among adults aged >=18 years  \\\n",
       "locationname                                                       \n",
       "17031010100                                                82.2    \n",
       "17031010201                                                79.6    \n",
       "17031010202                                                82.5    \n",
       "17031010300                                                83.0    \n",
       "17031010400                                                74.7    \n",
       "\n",
       "measure       Chronic kidney disease among adults aged >=18 years  \\\n",
       "locationname                                                        \n",
       "17031010100                                                 2.8     \n",
       "17031010201                                                 3.0     \n",
       "17031010202                                                 3.3     \n",
       "17031010300                                                 3.1     \n",
       "17031010400                                                 1.7     \n",
       "\n",
       "measure       Chronic obstructive pulmonary disease among adults aged >=18 years  \\\n",
       "locationname                                                                       \n",
       "17031010100                                                 6.0                    \n",
       "17031010201                                                 6.9                    \n",
       "17031010202                                                 7.4                    \n",
       "17031010300                                                 6.7                    \n",
       "17031010400                                                 4.0                    \n",
       "\n",
       "measure       Coronary heart disease among adults aged >=18 years  \\\n",
       "locationname                                                        \n",
       "17031010100                                                 4.8     \n",
       "17031010201                                                 5.2     \n",
       "17031010202                                                 6.2     \n",
       "17031010300                                                 6.1     \n",
       "17031010400                                                 3.0     \n",
       "\n",
       "measure       Current asthma among adults aged >=18 years  \\\n",
       "locationname                                                \n",
       "17031010100                                          10.8   \n",
       "17031010201                                          11.0   \n",
       "17031010202                                          10.4   \n",
       "17031010300                                           9.7   \n",
       "17031010400                                           9.9   \n",
       "\n",
       "measure                                                ...                                            \\\n",
       "locationname                                           ...                                             \n",
       "17031010100                                            ...                                             \n",
       "17031010201                                            ...                                             \n",
       "17031010202                                            ...                                             \n",
       "17031010300                                            ...                                             \n",
       "17031010400                                            ...                                             \n",
       "\n",
       "measure       No leisure-time physical activity among adults aged >=18 years  \\\n",
       "locationname                                                                   \n",
       "17031010100                                                24.4                \n",
       "17031010201                                                29.6                \n",
       "17031010202                                                27.9                \n",
       "17031010300                                                24.8                \n",
       "17031010400                                                17.8                \n",
       "\n",
       "measure       Obesity among adults aged >=18 years  \\\n",
       "locationname                                         \n",
       "17031010100                                   34.9   \n",
       "17031010201                                   36.4   \n",
       "17031010202                                   34.3   \n",
       "17031010300                                   31.1   \n",
       "17031010400                                   24.4   \n",
       "\n",
       "measure       Older adult men aged >=65 years who are up to date on a core set of clinical preventive services: Flu shot past year, PPV shot ever, Colorectal cancer screening  \\\n",
       "locationname                                                                                                                                                                     \n",
       "17031010100                                                26.8                                                                                                                  \n",
       "17031010201                                                24.2                                                                                                                  \n",
       "17031010202                                                27.3                                                                                                                  \n",
       "17031010300                                                29.9                                                                                                                  \n",
       "17031010400                                                30.7                                                                                                                  \n",
       "\n",
       "measure       Older adult women aged >=65 years who are up to date on a core set of clinical preventive services: Flu shot past year, PPV shot ever, Colorectal cancer screening, and Mammogram past 2 years  \\\n",
       "locationname                                                                                                                                                                                                   \n",
       "17031010100                                                25.4                                                                                                                                                \n",
       "17031010201                                                22.9                                                                                                                                                \n",
       "17031010202                                                24.1                                                                                                                                                \n",
       "17031010300                                                24.8                                                                                                                                                \n",
       "17031010400                                                27.4                                                                                                                                                \n",
       "\n",
       "measure       Physical health not good for >=14 days among adults aged >=18 years  \\\n",
       "locationname                                                                        \n",
       "17031010100                                                11.9                     \n",
       "17031010201                                                14.0                     \n",
       "17031010202                                                13.6                     \n",
       "17031010300                                                12.0                     \n",
       "17031010400                                                 8.2                     \n",
       "\n",
       "measure       Sleeping less than 7 hours among adults aged >=18 years  \\\n",
       "locationname                                                            \n",
       "17031010100                                                39.8         \n",
       "17031010201                                                41.2         \n",
       "17031010202                                                39.1         \n",
       "17031010300                                                36.6         \n",
       "17031010400                                                34.7         \n",
       "\n",
       "measure       Stroke among adults aged >=18 years  \\\n",
       "locationname                                        \n",
       "17031010100                                   3.2   \n",
       "17031010201                                   3.3   \n",
       "17031010202                                   3.8   \n",
       "17031010300                                   3.5   \n",
       "17031010400                                   1.7   \n",
       "\n",
       "measure       Taking medicine for high blood pressure control among adults aged >=18 years with high blood pressure  \\\n",
       "locationname                                                                                                          \n",
       "17031010100                                                70.3                                                       \n",
       "17031010201                                                67.5                                                       \n",
       "17031010202                                                72.4                                                       \n",
       "17031010300                                                73.3                                                       \n",
       "17031010400                                                62.2                                                       \n",
       "\n",
       "measure       Visits to dentist or dental clinic among adults aged >=18 years  \\\n",
       "locationname                                                                    \n",
       "17031010100                                                60.4                 \n",
       "17031010201                                                52.7                 \n",
       "17031010202                                                57.3                 \n",
       "17031010300                                                62.8                 \n",
       "17031010400                                                68.7                 \n",
       "\n",
       "measure       Visits to doctor for routine checkup within the past year among adults aged >=18 years  \n",
       "locationname                                                                                          \n",
       "17031010100                                                76.0                                       \n",
       "17031010201                                                73.4                                       \n",
       "17031010202                                                75.0                                       \n",
       "17031010300                                                75.4                                       \n",
       "17031010400                                                71.8                                       \n",
       "\n",
       "[5 rows x 28 columns]"
      ]
     },
     "execution_count": 67,
     "metadata": {},
     "output_type": "execute_result"
    }
   ],
   "source": [
    "df.pivot(values='data_value',columns='measure',index='locationname').head()"
   ]
  },
  {
   "cell_type": "markdown",
   "metadata": {},
   "source": [
    "### still needed\n",
    "- decide on measures to use\n",
    "- match/filter census tracts"
   ]
  },
  {
   "cell_type": "code",
   "execution_count": 68,
   "metadata": {},
   "outputs": [],
   "source": [
    "new_path = os.path.join(PROJ_ROOT, \n",
    "                         'data',\n",
    "                         'interim',\n",
    "                         '500_places.csv')\n",
    "df.to_csv(new_path, index=False)"
   ]
  }
 ],
 "metadata": {
  "kernelspec": {
   "display_name": "Python 3",
   "language": "python",
   "name": "python3"
  },
  "language_info": {
   "codemirror_mode": {
    "name": "ipython",
    "version": 3
   },
   "file_extension": ".py",
   "mimetype": "text/x-python",
   "name": "python",
   "nbconvert_exporter": "python",
   "pygments_lexer": "ipython3",
   "version": "3.7.1"
  }
 },
 "nbformat": 4,
 "nbformat_minor": 2
}
