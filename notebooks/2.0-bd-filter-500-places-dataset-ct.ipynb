{
 "cells": [
  {
   "cell_type": "code",
   "execution_count": 2,
   "metadata": {},
   "outputs": [],
   "source": [
    "import os\n",
    "import sys\n",
    "\n",
    "import seaborn as sns\n",
    "import matplotlib.pyplot as plt\n",
    "\n",
    "import numpy as np\n",
    "import pandas as pd\n",
    "\n",
    "PROJ_ROOT = os.path.join(os.pardir)"
   ]
  },
  {
   "cell_type": "code",
   "execution_count": 3,
   "metadata": {},
   "outputs": [],
   "source": [
    "census_path = os.path.join(PROJ_ROOT, \n",
    "                         'data',\n",
    "                         'raw',\n",
    "                         'chicago census tract.csv')\n",
    "\n",
    "census = pd.read_csv(census_path)\n",
    "\n",
    "places_path = os.path.join(PROJ_ROOT, \n",
    "                         'data',\n",
    "                         'interim',\n",
    "                         '500_places.csv')\n",
    "\n",
    "df = pd.read_csv(places_path)"
   ]
  },
  {
   "cell_type": "code",
   "execution_count": 4,
   "metadata": {},
   "outputs": [
    {
     "data": {
      "text/html": [
       "<div>\n",
       "<style scoped>\n",
       "    .dataframe tbody tr th:only-of-type {\n",
       "        vertical-align: middle;\n",
       "    }\n",
       "\n",
       "    .dataframe tbody tr th {\n",
       "        vertical-align: top;\n",
       "    }\n",
       "\n",
       "    .dataframe thead th {\n",
       "        text-align: right;\n",
       "    }\n",
       "</style>\n",
       "<table border=\"1\" class=\"dataframe\">\n",
       "  <thead>\n",
       "    <tr style=\"text-align: right;\">\n",
       "      <th></th>\n",
       "      <th>the_geom</th>\n",
       "      <th>STATEFP10</th>\n",
       "      <th>COUNTYFP10</th>\n",
       "      <th>TRACTCE10</th>\n",
       "      <th>GEOID10</th>\n",
       "      <th>NAME10</th>\n",
       "      <th>NAMELSAD10</th>\n",
       "      <th>COMMAREA</th>\n",
       "      <th>COMMAREA_N</th>\n",
       "      <th>NOTES</th>\n",
       "    </tr>\n",
       "  </thead>\n",
       "  <tbody>\n",
       "    <tr>\n",
       "      <th>0</th>\n",
       "      <td>MULTIPOLYGON (((-87.62404799998049 41.73021699...</td>\n",
       "      <td>17</td>\n",
       "      <td>31</td>\n",
       "      <td>842400</td>\n",
       "      <td>17031842400</td>\n",
       "      <td>8424.0</td>\n",
       "      <td>Census Tract 8424</td>\n",
       "      <td>44</td>\n",
       "      <td>44</td>\n",
       "      <td>NaN</td>\n",
       "    </tr>\n",
       "    <tr>\n",
       "      <th>1</th>\n",
       "      <td>MULTIPOLYGON (((-87.6860799999848 41.822956000...</td>\n",
       "      <td>17</td>\n",
       "      <td>31</td>\n",
       "      <td>840300</td>\n",
       "      <td>17031840300</td>\n",
       "      <td>8403.0</td>\n",
       "      <td>Census Tract 8403</td>\n",
       "      <td>59</td>\n",
       "      <td>59</td>\n",
       "      <td>NaN</td>\n",
       "    </tr>\n",
       "    <tr>\n",
       "      <th>2</th>\n",
       "      <td>MULTIPOLYGON (((-87.62934700001182 41.85279700...</td>\n",
       "      <td>17</td>\n",
       "      <td>31</td>\n",
       "      <td>841100</td>\n",
       "      <td>17031841100</td>\n",
       "      <td>8411.0</td>\n",
       "      <td>Census Tract 8411</td>\n",
       "      <td>34</td>\n",
       "      <td>34</td>\n",
       "      <td>NaN</td>\n",
       "    </tr>\n",
       "    <tr>\n",
       "      <th>3</th>\n",
       "      <td>MULTIPOLYGON (((-87.68813499997718 41.85569099...</td>\n",
       "      <td>17</td>\n",
       "      <td>31</td>\n",
       "      <td>841200</td>\n",
       "      <td>17031841200</td>\n",
       "      <td>8412.0</td>\n",
       "      <td>Census Tract 8412</td>\n",
       "      <td>31</td>\n",
       "      <td>31</td>\n",
       "      <td>NaN</td>\n",
       "    </tr>\n",
       "    <tr>\n",
       "      <th>4</th>\n",
       "      <td>MULTIPOLYGON (((-87.63312200003458 41.87448800...</td>\n",
       "      <td>17</td>\n",
       "      <td>31</td>\n",
       "      <td>839000</td>\n",
       "      <td>17031839000</td>\n",
       "      <td>8390.0</td>\n",
       "      <td>Census Tract 8390</td>\n",
       "      <td>32</td>\n",
       "      <td>32</td>\n",
       "      <td>NaN</td>\n",
       "    </tr>\n",
       "  </tbody>\n",
       "</table>\n",
       "</div>"
      ],
      "text/plain": [
       "                                            the_geom  STATEFP10  COUNTYFP10  \\\n",
       "0  MULTIPOLYGON (((-87.62404799998049 41.73021699...         17          31   \n",
       "1  MULTIPOLYGON (((-87.6860799999848 41.822956000...         17          31   \n",
       "2  MULTIPOLYGON (((-87.62934700001182 41.85279700...         17          31   \n",
       "3  MULTIPOLYGON (((-87.68813499997718 41.85569099...         17          31   \n",
       "4  MULTIPOLYGON (((-87.63312200003458 41.87448800...         17          31   \n",
       "\n",
       "   TRACTCE10      GEOID10  NAME10         NAMELSAD10  COMMAREA  COMMAREA_N  \\\n",
       "0     842400  17031842400  8424.0  Census Tract 8424        44          44   \n",
       "1     840300  17031840300  8403.0  Census Tract 8403        59          59   \n",
       "2     841100  17031841100  8411.0  Census Tract 8411        34          34   \n",
       "3     841200  17031841200  8412.0  Census Tract 8412        31          31   \n",
       "4     839000  17031839000  8390.0  Census Tract 8390        32          32   \n",
       "\n",
       "  NOTES  \n",
       "0   NaN  \n",
       "1   NaN  \n",
       "2   NaN  \n",
       "3   NaN  \n",
       "4   NaN  "
      ]
     },
     "execution_count": 4,
     "metadata": {},
     "output_type": "execute_result"
    }
   ],
   "source": [
    "census.head()"
   ]
  },
  {
   "cell_type": "code",
   "execution_count": 5,
   "metadata": {},
   "outputs": [
    {
     "data": {
      "text/plain": [
       "(801, 10)"
      ]
     },
     "execution_count": 5,
     "metadata": {},
     "output_type": "execute_result"
    }
   ],
   "source": [
    "census.shape"
   ]
  },
  {
   "cell_type": "code",
   "execution_count": 6,
   "metadata": {},
   "outputs": [],
   "source": [
    "census_tracts = census.GEOID10"
   ]
  },
  {
   "cell_type": "code",
   "execution_count": 14,
   "metadata": {
    "scrolled": true
   },
   "outputs": [
    {
     "data": {
      "text/plain": [
       "(797, 28)"
      ]
     },
     "execution_count": 14,
     "metadata": {},
     "output_type": "execute_result"
    }
   ],
   "source": [
    "df[df.locationname.isin(census_tracts)].pivot(values='data_value',columns='measure',index='locationname').shape"
   ]
  },
  {
   "cell_type": "markdown",
   "metadata": {},
   "source": [
    "It looks like there are some census tracts that are not in the 500 PLACES dataset"
   ]
  },
  {
   "cell_type": "code",
   "execution_count": 8,
   "metadata": {},
   "outputs": [
    {
     "data": {
      "text/plain": [
       "(801, 29)"
      ]
     },
     "execution_count": 8,
     "metadata": {},
     "output_type": "execute_result"
    }
   ],
   "source": [
    "pd.merge(census[['GEOID10','NAME10']], df, left_on='GEOID10',right_on='locationname',how='left').pivot(values='data_value',columns='measure',index='GEOID10').shape"
   ]
  },
  {
   "cell_type": "code",
   "execution_count": 9,
   "metadata": {},
   "outputs": [
    {
     "data": {
      "text/plain": [
       "{17031381700, 17031835700, 17031980000, 17031980100}"
      ]
     },
     "execution_count": 9,
     "metadata": {},
     "output_type": "execute_result"
    }
   ],
   "source": [
    "set(census_tracts) - set(df.locationname.unique())"
   ]
  },
  {
   "cell_type": "markdown",
   "metadata": {},
   "source": [
    "![O'Hare Aiport](..\\\\reports\\\\figures\\\\17031980000.png)\n",
    "![Midway Aiport](..\\\\reports\\\\figures\\\\17031980100.png)\n",
    "![17031835700](..\\\\reports\\\\figures\\\\17031835700.png)\n",
    "![17031381700](..\\\\reports\\\\figures\\\\17031381700.png)"
   ]
  },
  {
   "cell_type": "markdown",
   "metadata": {},
   "source": [
    "Two of the census tracts are airports, and the other two appear to be smaller tracts, but unsure why they are not included in the dataset."
   ]
  },
  {
   "cell_type": "code",
   "execution_count": 10,
   "metadata": {},
   "outputs": [],
   "source": [
    "df=df[df.locationname.isin(census_tracts)]#.pivot(values='data_value',columns='measure',index='locationname')"
   ]
  },
  {
   "cell_type": "code",
   "execution_count": 11,
   "metadata": {
    "scrolled": true
   },
   "outputs": [
    {
     "data": {
      "text/plain": [
       "797"
      ]
     },
     "execution_count": 11,
     "metadata": {},
     "output_type": "execute_result"
    }
   ],
   "source": [
    "len(df.locationname.unique())"
   ]
  },
  {
   "cell_type": "code",
   "execution_count": null,
   "metadata": {},
   "outputs": [],
   "source": [
    "# places_path = os.path.join(PROJ_ROOT, \n",
    "#                          'data',\n",
    "#                          'interim',\n",
    "#                          '500_places_ct_filtered.csv')\n",
    "# df.to_csv(places_path, index=False)"
   ]
  },
  {
   "cell_type": "code",
   "execution_count": 16,
   "metadata": {},
   "outputs": [],
   "source": [
    "places_path = os.path.join(PROJ_ROOT, \n",
    "                         'data',\n",
    "                         'interim',\n",
    "                         '500_places_ct_filtered_2.csv')\n",
    "df[df.locationname.isin(census_tracts)].pivot(values='data_value',columns='measure',index='locationname').reset_index().to_csv(places_path,index=False)"
   ]
  }
 ],
 "metadata": {
  "kernelspec": {
   "display_name": "Python 3",
   "language": "python",
   "name": "python3"
  },
  "language_info": {
   "codemirror_mode": {
    "name": "ipython",
    "version": 3
   },
   "file_extension": ".py",
   "mimetype": "text/x-python",
   "name": "python",
   "nbconvert_exporter": "python",
   "pygments_lexer": "ipython3",
   "version": "3.7.1"
  }
 },
 "nbformat": 4,
 "nbformat_minor": 2
}
