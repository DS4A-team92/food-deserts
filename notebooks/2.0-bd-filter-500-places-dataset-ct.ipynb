{
 "cells": [
  {
   "cell_type": "code",
   "execution_count": 1,
   "metadata": {},
   "outputs": [],
   "source": [
    "import os\n",
    "import sys\n",
    "\n",
    "import seaborn as sns\n",
    "import matplotlib.pyplot as plt\n",
    "\n",
    "import numpy as np\n",
    "import pandas as pd\n",
    "\n",
    "PROJ_ROOT = os.path.join(os.pardir)"
   ]
  },
  {
   "cell_type": "code",
   "execution_count": 15,
   "metadata": {},
   "outputs": [],
   "source": [
    "census_path2 = os.path.join(PROJ_ROOT, \n",
    "                         'data',\n",
    "                         'raw',\n",
    "                         'chicago census tract.csv')\n",
    "census2 = pd.read_csv(census_path2)\n",
    "\n",
    "census_path = os.path.join(PROJ_ROOT, \n",
    "                         'data',\n",
    "                         'interim',\n",
    "                         'FARA_Cook_County.csv')\n",
    "\n",
    "census = pd.read_csv(census_path)\n",
    "\n",
    "places_path = os.path.join(PROJ_ROOT, \n",
    "                         'data',\n",
    "                         'interim',\n",
    "                         '500_places.csv')\n",
    "\n",
    "df = pd.read_csv(places_path)"
   ]
  },
  {
   "cell_type": "code",
   "execution_count": 17,
   "metadata": {},
   "outputs": [
    {
     "data": {
      "text/plain": [
       "(1314, 61)"
      ]
     },
     "execution_count": 17,
     "metadata": {},
     "output_type": "execute_result"
    }
   ],
   "source": [
    "census.shape"
   ]
  },
  {
   "cell_type": "code",
   "execution_count": 18,
   "metadata": {},
   "outputs": [],
   "source": [
    "census_tracts = census.CensusTract"
   ]
  },
  {
   "cell_type": "code",
   "execution_count": 19,
   "metadata": {
    "scrolled": true
   },
   "outputs": [
    {
     "data": {
      "text/plain": [
       "(1314, 28)"
      ]
     },
     "execution_count": 19,
     "metadata": {},
     "output_type": "execute_result"
    }
   ],
   "source": [
    "df[df.locationname.isin(census_tracts)].pivot(values='data_value',columns='measure',index='locationname').shape"
   ]
  },
  {
   "cell_type": "markdown",
   "metadata": {},
   "source": [
    "It looks like there are some census tracts that are not in the 500 PLACES dataset"
   ]
  },
  {
   "cell_type": "code",
   "execution_count": 20,
   "metadata": {},
   "outputs": [
    {
     "data": {
      "text/plain": [
       "(801, 29)"
      ]
     },
     "execution_count": 20,
     "metadata": {},
     "output_type": "execute_result"
    }
   ],
   "source": [
    "pd.merge(census2[['GEOID10','NAME10']], df, left_on='GEOID10',right_on='locationname',how='left').pivot(values='data_value',columns='measure',index='GEOID10').shape"
   ]
  },
  {
   "cell_type": "code",
   "execution_count": 21,
   "metadata": {},
   "outputs": [
    {
     "data": {
      "text/plain": [
       "set()"
      ]
     },
     "execution_count": 21,
     "metadata": {},
     "output_type": "execute_result"
    }
   ],
   "source": [
    "set(census_tracts) - set(df.locationname.unique())"
   ]
  },
  {
   "cell_type": "code",
   "execution_count": 25,
   "metadata": {},
   "outputs": [
    {
     "data": {
      "text/plain": [
       "{17031381700, 17031835700, 17031980000, 17031980100}"
      ]
     },
     "execution_count": 25,
     "metadata": {},
     "output_type": "execute_result"
    }
   ],
   "source": [
    "set(census2.GEOID10) - set(df.locationname.unique())"
   ]
  },
  {
   "cell_type": "markdown",
   "metadata": {},
   "source": [
    "![O'Hare Aiport](..\\\\reports\\\\figures\\\\17031980000.png)\n",
    "![Midway Aiport](..\\\\reports\\\\figures\\\\17031980100.png)\n",
    "![17031835700](..\\\\reports\\\\figures\\\\17031835700.png)\n",
    "![17031381700](..\\\\reports\\\\figures\\\\17031381700.png)"
   ]
  },
  {
   "cell_type": "markdown",
   "metadata": {},
   "source": [
    "Two of the census tracts are airports, and the other two appear to be smaller tracts, but unsure why they are not included in the dataset."
   ]
  },
  {
   "cell_type": "code",
   "execution_count": 26,
   "metadata": {},
   "outputs": [],
   "source": [
    "df=df[df.locationname.isin(census_tracts)]#.pivot(values='data_value',columns='measure',index='locationname')"
   ]
  },
  {
   "cell_type": "code",
   "execution_count": 27,
   "metadata": {
    "scrolled": true
   },
   "outputs": [
    {
     "data": {
      "text/plain": [
       "1314"
      ]
     },
     "execution_count": 27,
     "metadata": {},
     "output_type": "execute_result"
    }
   ],
   "source": [
    "len(df.locationname.unique())"
   ]
  },
  {
   "cell_type": "code",
   "execution_count": null,
   "metadata": {},
   "outputs": [],
   "source": [
    "# places_path = os.path.join(PROJ_ROOT, \n",
    "#                          'data',\n",
    "#                          'interim',\n",
    "#                          '500_places_ct_filtered.csv')\n",
    "# df.to_csv(places_path, index=False)"
   ]
  },
  {
   "cell_type": "code",
   "execution_count": 28,
   "metadata": {},
   "outputs": [],
   "source": [
    "places_path = os.path.join(PROJ_ROOT, \n",
    "                         'data',\n",
    "                         'interim',\n",
    "                         '500_places_ct_filtered_2.csv')\n",
    "df[df.locationname.isin(census_tracts)].pivot(values='data_value',columns='measure',index='locationname').reset_index().to_csv(places_path,index=False)"
   ]
  }
 ],
 "metadata": {
  "kernelspec": {
   "display_name": "Python 3",
   "language": "python",
   "name": "python3"
  },
  "language_info": {
   "codemirror_mode": {
    "name": "ipython",
    "version": 3
   },
   "file_extension": ".py",
   "mimetype": "text/x-python",
   "name": "python",
   "nbconvert_exporter": "python",
   "pygments_lexer": "ipython3",
   "version": "3.7.1"
  }
 },
 "nbformat": 4,
 "nbformat_minor": 2
}
